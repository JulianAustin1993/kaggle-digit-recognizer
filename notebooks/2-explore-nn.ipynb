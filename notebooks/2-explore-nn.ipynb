{
 "cells": [
  {
   "cell_type": "code",
   "execution_count": 1,
   "metadata": {},
   "outputs": [
    {
     "name": "stderr",
     "output_type": "stream",
     "text": [
      "2022-11-29 22:02:56.659065: I tensorflow/core/platform/cpu_feature_guard.cc:193] This TensorFlow binary is optimized with oneAPI Deep Neural Network Library (oneDNN) to use the following CPU instructions in performance-critical operations:  AVX2 FMA\n",
      "To enable them in other operations, rebuild TensorFlow with the appropriate compiler flags.\n",
      "2022/11/29 22:03:02 WARNING mlflow.utils.autologging_utils: You are using an unsupported version of tensorflow. If you encounter errors during autologging, try upgrading / downgrading tensorflow to a supported version, or try upgrading MLflow.\n"
     ]
    },
    {
     "data": {
      "text/plain": [
       "True"
      ]
     },
     "execution_count": 1,
     "metadata": {},
     "output_type": "execute_result"
    }
   ],
   "source": [
    "import os\n",
    "import sys\n",
    "from dotenv import load_dotenv, find_dotenv\n",
    "from pathlib import Path\n",
    "import tensorflow as tf\n",
    "import matplotlib.pyplot as plt\n",
    "module_path = os.path.abspath(os.path.join('..'))\n",
    "if module_path not in sys.path:\n",
    "    sys.path.append(module_path)\n",
    "from src import DrDataLoader\n",
    "import mlflow\n",
    "import mlflow.tensorflow\n",
    "mlflow.set_tracking_uri(\"http://localhost:5000\")\n",
    "mlflow.tensorflow.autolog()\n",
    "load_dotenv(find_dotenv())"
   ]
  },
  {
   "cell_type": "code",
   "execution_count": 2,
   "metadata": {},
   "outputs": [
    {
     "name": "stdout",
     "output_type": "stream",
     "text": [
      "Name: pipeline\n",
      "Experiment_id: 1\n",
      "Artifact Location: file:///Users/b7064522/Documents/DataScience/kaggle-digit-recognizer/notebooks/../artifacts\n",
      "Tags: {'version': 'v1', 'priority': 'P1'}\n",
      "Lifecycle_stage: active\n",
      "Creation timestamp: 1669759386591\n"
     ]
    }
   ],
   "source": [
    "experiment_id = mlflow.create_experiment(\n",
    "    os.getenv('EXPERIMENT_NAME'), #type: ignore\n",
    "    artifact_location=Path.cwd().joinpath(\"../artifacts\").as_uri(),\n",
    "    tags={\"version\": \"v1\", \"priority\": \"P1\"},\n",
    ")\n",
    "experiment = mlflow.get_experiment(experiment_id)\n",
    "print(\"Name: {}\".format(experiment.name))\n",
    "print(\"Experiment_id: {}\".format(experiment.experiment_id))\n",
    "print(\"Artifact Location: {}\".format(experiment.artifact_location))\n",
    "print(\"Tags: {}\".format(experiment.tags))\n",
    "print(\"Lifecycle_stage: {}\".format(experiment.lifecycle_stage))\n",
    "print(\"Creation timestamp: {}\".format(experiment.creation_time))"
   ]
  },
  {
   "cell_type": "code",
   "execution_count": 3,
   "metadata": {},
   "outputs": [
    {
     "name": "stderr",
     "output_type": "stream",
     "text": [
      "2022-11-29 22:03:17.079900: I tensorflow/core/platform/cpu_feature_guard.cc:193] This TensorFlow binary is optimized with oneAPI Deep Neural Network Library (oneDNN) to use the following CPU instructions in performance-critical operations:  AVX2 FMA\n",
      "To enable them in other operations, rebuild TensorFlow with the appropriate compiler flags.\n"
     ]
    },
    {
     "name": "stdout",
     "output_type": "stream",
     "text": [
      "Model: \"sequential\"\n",
      "_________________________________________________________________\n",
      " Layer (type)                Output Shape              Param #   \n",
      "=================================================================\n",
      " flatten (Flatten)           (None, 784)               0         \n",
      "                                                                 \n",
      " dense (Dense)               (None, 128)               100480    \n",
      "                                                                 \n",
      " dense_1 (Dense)             (None, 10)                1290      \n",
      "                                                                 \n",
      "=================================================================\n",
      "Total params: 101,770\n",
      "Trainable params: 101,770\n",
      "Non-trainable params: 0\n",
      "_________________________________________________________________\n",
      "None\n",
      "Epoch 1/10\n",
      "  1/263 [..............................] - ETA: 4:58 - loss: 163.1845 - sparse_categorical_accuracy: 0.1406WARNING:tensorflow:Callback method `on_train_batch_end` is slow compared to the batch time (batch time: 0.0030s vs `on_train_batch_end` time: 0.0769s). Check your callbacks.\n",
      "263/263 [==============================] - 3s 6ms/step - loss: 7.0758 - sparse_categorical_accuracy: 0.8413 - val_loss: 2.1268 - val_sparse_categorical_accuracy: 0.9046\n",
      "Epoch 2/10\n",
      "263/263 [==============================] - 1s 6ms/step - loss: 1.2531 - sparse_categorical_accuracy: 0.9188 - val_loss: 1.3580 - val_sparse_categorical_accuracy: 0.9055\n",
      "Epoch 3/10\n",
      "263/263 [==============================] - 1s 5ms/step - loss: 0.6754 - sparse_categorical_accuracy: 0.9356 - val_loss: 1.0022 - val_sparse_categorical_accuracy: 0.9161\n",
      "Epoch 4/10\n",
      "263/263 [==============================] - 1s 4ms/step - loss: 0.4161 - sparse_categorical_accuracy: 0.9478 - val_loss: 0.9129 - val_sparse_categorical_accuracy: 0.9198\n",
      "Epoch 5/10\n",
      "263/263 [==============================] - 1s 5ms/step - loss: 0.2845 - sparse_categorical_accuracy: 0.9561 - val_loss: 0.7849 - val_sparse_categorical_accuracy: 0.9219\n",
      "Epoch 6/10\n",
      "263/263 [==============================] - 1s 3ms/step - loss: 0.2206 - sparse_categorical_accuracy: 0.9625 - val_loss: 0.7555 - val_sparse_categorical_accuracy: 0.9298\n",
      "Epoch 7/10\n",
      "263/263 [==============================] - 1s 3ms/step - loss: 0.1711 - sparse_categorical_accuracy: 0.9669 - val_loss: 0.7028 - val_sparse_categorical_accuracy: 0.9386\n",
      "Epoch 8/10\n",
      "263/263 [==============================] - 1s 3ms/step - loss: 0.1573 - sparse_categorical_accuracy: 0.9683 - val_loss: 0.6923 - val_sparse_categorical_accuracy: 0.9312\n",
      "Epoch 9/10\n",
      "263/263 [==============================] - 1s 4ms/step - loss: 0.1335 - sparse_categorical_accuracy: 0.9729 - val_loss: 0.6994 - val_sparse_categorical_accuracy: 0.9361\n",
      "Epoch 10/10\n",
      "263/263 [==============================] - 1s 3ms/step - loss: 0.1307 - sparse_categorical_accuracy: 0.9735 - val_loss: 0.6469 - val_sparse_categorical_accuracy: 0.9383\n",
      "1/1 [==============================] - 0s 79ms/step\n"
     ]
    },
    {
     "name": "stderr",
     "output_type": "stream",
     "text": [
      "2022/11/29 22:03:37 WARNING mlflow.utils.autologging_utils: MLflow autologging encountered a warning: \"/Users/b7064522/opt/miniconda3/envs/kdrenv/lib/python3.10/site-packages/mlflow/tensorflow/__init__.py:189: UserWarning: The pyfunc inference behavior of Keras models logged with signatures differs from the behavior of Keras models logged without signatures. Specifically, when a signature is present, passing a Pandas DataFrame as input to the pyfunc `predict()` API produces an `ndarray` (for single-output models) or a dictionary of `str -> ndarray`: (for multi-output models). In contrast, when a signature is *not* present, `predict()` produces a Pandas DataFrame output in response to a Pandas DataFrame input.\"\n",
      "WARNING:absl:Found untraced functions such as _update_step_xla while saving (showing 1 of 1). These functions will not be directly callable after loading.\n"
     ]
    },
    {
     "name": "stdout",
     "output_type": "stream",
     "text": [
      "INFO:tensorflow:Assets written to: /var/folders/4g/6c1htv314w9dcb25vhpxqfscjwsh63/T/tmpyyimp3aa/model/data/model/assets\n"
     ]
    },
    {
     "name": "stderr",
     "output_type": "stream",
     "text": [
      "INFO:tensorflow:Assets written to: /var/folders/4g/6c1htv314w9dcb25vhpxqfscjwsh63/T/tmpyyimp3aa/model/data/model/assets\n",
      "2022/11/29 22:03:46 WARNING mlflow.utils.autologging_utils: MLflow autologging encountered a warning: \"/Users/b7064522/opt/miniconda3/envs/kdrenv/lib/python3.10/site-packages/_distutils_hack/__init__.py:33: UserWarning: Setuptools is replacing distutils.\"\n"
     ]
    }
   ],
   "source": [
    "with mlflow.start_run(experiment_id=experiment_id):\n",
    "    data_loader = DrDataLoader(Path('../') / Path(os.getenv('RAW_FP'))) #type: ignore\n",
    "    train_ds, val_ds = tf.keras.utils.split_dataset(\n",
    "        data_loader.load_training_data(),\n",
    "        left_size = 0.8,\n",
    "        shuffle=True\n",
    "    )\n",
    "    BATCH_SIZE = 128\n",
    "    mlflow.log_param(\"BATCH_SIZE\", BATCH_SIZE)\n",
    "    train_ds = train_ds.batch(BATCH_SIZE)\n",
    "    val_ds = val_ds.batch(BATCH_SIZE)\n",
    "    model = tf.keras.Sequential([\n",
    "    tf.keras.layers.Flatten(input_shape=(28, 28)),\n",
    "    tf.keras.layers.Dense(128, activation='relu'),\n",
    "    tf.keras.layers.Dense(10)\n",
    "    ])\n",
    "\n",
    "    model.compile(optimizer=tf.keras.optimizers.Adam(0.001),\n",
    "                loss=tf.keras.losses.SparseCategoricalCrossentropy(from_logits=True),\n",
    "                metrics=['sparse_categorical_accuracy'])\n",
    "    print(model.summary())\n",
    "    history = model.fit(train_ds, epochs=10, validation_data=val_ds)"
   ]
  },
  {
   "cell_type": "code",
   "execution_count": 4,
   "metadata": {},
   "outputs": [
    {
     "name": "stdout",
     "output_type": "stream",
     "text": [
      "66/66 [==============================] - 0s 4ms/step\n",
      "4/4 [==============================] - 0s 5ms/step\n",
      "2\n"
     ]
    },
    {
     "data": {
      "image/png": "[encoded data removed]",
      "text/plain": [
       "<Figure size 640x480 with 1 Axes>"
      ]
     },
     "metadata": {},
     "output_type": "display_data"
    }
   ],
   "source": [
    "test_labels = model.predict(val_ds)\n",
    "for batch, lab in val_ds.take(1):\n",
    "    pred = model.predict(batch)\n",
    "    plt.imshow(batch[127])\n",
    "    print(pred[127].argmax())"
   ]
  },
  {
   "cell_type": "code",
   "execution_count": null,
   "metadata": {},
   "outputs": [],
   "source": []
  }
 ],
 "metadata": {
  "kernelspec": {
   "display_name": "Python 3.10.8 ('kdrenv')",
   "language": "python",
   "name": "python3"
  },
  "language_info": {
   "codemirror_mode": {
    "name": "ipython",
    "version": 3
   },
   "file_extension": ".py",
   "mimetype": "text/x-python",
   "name": "python",
   "nbconvert_exporter": "python",
   "pygments_lexer": "ipython3",
   "version": "3.10.8"
  },
  "orig_nbformat": 4,
  "vscode": {
   "interpreter": {
    "hash": "1527211142a7229be55d624c66955c850bb3fa47772edc50043d1210368230e5"
   }
  }
 },
 "nbformat": 4,
 "nbformat_minor": 2
}
