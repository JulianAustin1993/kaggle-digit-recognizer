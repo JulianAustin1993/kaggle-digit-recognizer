{
 "cells": [
  {
   "cell_type": "markdown",
   "metadata": {},
   "source": [
    "# Explore Pipeline\n",
    "\n",
    "We wish to explore the impact of our data pipeline; we will consider six things:\n",
    "\n",
    "- train-validation split size.\n",
    "- Model batch size.\n",
    "- rescaling\n",
    "- including rotations to the images.\n",
    "- including translations of the images.\n",
    "- including added noise to the brightness of the images.\n",
    "- zooming on the images."
   ]
  },
  {
   "cell_type": "markdown",
   "metadata": {},
   "source": [
    "## Summary\n",
    "\n",
    "Based on the below findings; it seems like data augmentation of the following.\n",
    "\n",
    "|Augmentation|Value|\n",
    "|------------|-----|\n",
    "|train-val split|0.8 / 0.9|\n",
    "|batch size|64 or 128|\n",
    "|rescaling| 1/255.|\n",
    "|rotations| 0.05 (18deg)|\n",
    "|translations| 0.1|\n",
    "|brightness| 0.1|\n",
    "|zoom|0.1|"
   ]
  },
  {
   "cell_type": "code",
   "execution_count": 16,
   "metadata": {},
   "outputs": [
    {
     "name": "stderr",
     "output_type": "stream",
     "text": [
      "2022/12/02 16:32:54 WARNING mlflow.utils.autologging_utils: You are using an unsupported version of tensorflow. If you encounter errors during autologging, try upgrading / downgrading tensorflow to a supported version, or try upgrading MLflow.\n"
     ]
    }
   ],
   "source": [
    "import os\n",
    "import sys\n",
    "from dotenv import load_dotenv, find_dotenv\n",
    "from pathlib import Path\n",
    "import tensorflow as tf\n",
    "import matplotlib.pyplot as plt\n",
    "module_path = os.path.abspath(os.path.join('..'))\n",
    "if module_path not in sys.path:\n",
    "    sys.path.append(module_path)\n",
    "from src import DrDataLoader\n",
    "import mlflow\n",
    "import mlflow.tensorflow\n",
    "mlflow.set_tracking_uri(\"http://localhost:5000\")\n",
    "mlflow.tensorflow.autolog()\n",
    "load_dotenv(find_dotenv())\n",
    "\n",
    "data_loader = DrDataLoader(Path('../') / Path(os.getenv('RAW_FP'))) #type: ignore\n",
    "\n",
    "def get_rescale_im(factor):\n",
    "    return tf.keras.Sequential([\n",
    "        tf.keras.layers.Rescaling(factor)\n",
    "    ])\n",
    "\n",
    "def get_rotate_im(rotation):\n",
    "    return tf.keras.Sequential([\n",
    "        tf.keras.layers.RandomRotation(factor=rotation)\n",
    "    ])\n",
    "\n",
    "def get_translate_im(translation):\n",
    "    return tf.keras.Sequential([\n",
    "        tf.keras.layers.RandomTranslation(\n",
    "            height_factor=translation[0],\n",
    "            width_factor=translation[0]\n",
    "        )\n",
    "    ])\n",
    "\n",
    "def get_brighten_im(brightness):\n",
    "    return tf.keras.Sequential([\n",
    "        tf.keras.layers.RandomBrightness(\n",
    "            factor = brightness\n",
    "        )\n",
    "    ])\n",
    "\n",
    "def get_zoom_im(factor):\n",
    "    return tf.keras.Sequential([\n",
    "        tf.keras.layers.RandomZoom(factor)\n",
    "    ])\n",
    "\n",
    "AUTOTUNE = tf.data.AUTOTUNE\n",
    "\n",
    "def prepare(\n",
    "    ds,\n",
    "    rescale=None,\n",
    "    batch_size = None,\n",
    "    rotation=None,\n",
    "    translation=None,\n",
    "    brightness=None,\n",
    "    zoom=None,\n",
    "    ):\n",
    "\n",
    "    if brightness is not None:\n",
    "        brighten_im = get_brighten_im(brightness)\n",
    "        ds = ds.map(lambda x, y: (brighten_im(x), y), num_parallel_calls=AUTOTUNE)\n",
    "\n",
    "    if rescale is not None:\n",
    "        rescale_im = get_rescale_im(rescale)\n",
    "        ds = ds.map(lambda x, y: (rescale_im(x), y), num_parallel_calls=AUTOTUNE)\n",
    "    \n",
    "    if rotation is not None:\n",
    "        rotate_im = get_rotate_im(rotation)\n",
    "        ds = ds.map(lambda x, y: (rotate_im(x), y), num_parallel_calls=AUTOTUNE)\n",
    "    \n",
    "    if translation is not None:\n",
    "        translate_im = get_translate_im(translation)\n",
    "        ds = ds.map(lambda x, y: (translate_im(x), y), num_parallel_calls=AUTOTUNE)\n",
    "\n",
    "    if zoom is not None:\n",
    "        zoom_im = get_zoom_im(zoom)\n",
    "        ds = ds.map(lambda x, y: (zoom_im(x), y), num_parallel_calls=AUTOTUNE)\n",
    "\n",
    "    if batch_size is not None:\n",
    "        ds = ds.batch(batch_size)\n",
    "\n",
    "    return ds\n"
   ]
  },
  {
   "cell_type": "markdown",
   "metadata": {},
   "source": [
    "## Experiment 1\n",
    "We explore the impact of the train - validation split size."
   ]
  },
  {
   "cell_type": "code",
   "execution_count": 6,
   "metadata": {},
   "outputs": [
    {
     "name": "stdout",
     "output_type": "stream",
     "text": [
      "Name: pipeline-experiments-split_size\n",
      "Experiment_id: 1\n",
      "Artifact Location: file:///Users/b7064522/Documents/DataScience/kaggle-digit-recognizer/notebooks/../artifacts\n",
      "Tags: {'version': 'v1', 'priority': 'P1'}\n",
      "Lifecycle_stage: active\n",
      "Creation timestamp: 1669993601097\n",
      "Epoch 1/10\n",
      "  1/165 [..............................] - ETA: 3:24 - loss: 137.2285 - sparse_categorical_accuracy: 0.0781WARNING:tensorflow:Callback method `on_train_batch_end` is slow compared to the batch time (batch time: 0.0040s vs `on_train_batch_end` time: 0.0266s). Check your callbacks.\n"
     ]
    },
    {
     "name": "stderr",
     "output_type": "stream",
     "text": [
      "WARNING:tensorflow:Callback method `on_train_batch_end` is slow compared to the batch time (batch time: 0.0040s vs `on_train_batch_end` time: 0.0266s). Check your callbacks.\n"
     ]
    },
    {
     "name": "stdout",
     "output_type": "stream",
     "text": [
      "165/165 [==============================] - 3s 12ms/step - loss: 9.9703 - sparse_categorical_accuracy: 0.8220 - val_loss: 3.3028 - val_sparse_categorical_accuracy: 0.8870\n",
      "Epoch 2/10\n",
      "165/165 [==============================] - 1s 9ms/step - loss: 2.1082 - sparse_categorical_accuracy: 0.9107 - val_loss: 2.1925 - val_sparse_categorical_accuracy: 0.9078\n",
      "Epoch 3/10\n",
      "165/165 [==============================] - 1s 8ms/step - loss: 1.0859 - sparse_categorical_accuracy: 0.9340 - val_loss: 1.9465 - val_sparse_categorical_accuracy: 0.9143\n",
      "Epoch 4/10\n",
      "165/165 [==============================] - 1s 9ms/step - loss: 0.6912 - sparse_categorical_accuracy: 0.9501 - val_loss: 1.5740 - val_sparse_categorical_accuracy: 0.9249\n",
      "Epoch 5/10\n",
      "165/165 [==============================] - 1s 5ms/step - loss: 0.4270 - sparse_categorical_accuracy: 0.9621 - val_loss: 1.5198 - val_sparse_categorical_accuracy: 0.9258\n",
      "Epoch 6/10\n",
      "165/165 [==============================] - 1s 4ms/step - loss: 0.3311 - sparse_categorical_accuracy: 0.9664 - val_loss: 1.3854 - val_sparse_categorical_accuracy: 0.9301\n",
      "Epoch 7/10\n",
      "165/165 [==============================] - 1s 5ms/step - loss: 0.2395 - sparse_categorical_accuracy: 0.9727 - val_loss: 1.4374 - val_sparse_categorical_accuracy: 0.9293\n",
      "Epoch 8/10\n",
      "165/165 [==============================] - 1s 4ms/step - loss: 0.1712 - sparse_categorical_accuracy: 0.9785 - val_loss: 1.3933 - val_sparse_categorical_accuracy: 0.9360\n",
      "Epoch 9/10\n",
      "165/165 [==============================] - 1s 5ms/step - loss: 0.1727 - sparse_categorical_accuracy: 0.9793 - val_loss: 1.2921 - val_sparse_categorical_accuracy: 0.9408\n",
      "Epoch 10/10\n",
      "165/165 [==============================] - 1s 4ms/step - loss: 0.1180 - sparse_categorical_accuracy: 0.9839 - val_loss: 1.2927 - val_sparse_categorical_accuracy: 0.9405\n",
      "1/1 [==============================] - 0s 53ms/step\n"
     ]
    },
    {
     "name": "stderr",
     "output_type": "stream",
     "text": [
      "2022/12/02 15:07:06 WARNING mlflow.utils.autologging_utils: MLflow autologging encountered a warning: \"/Users/b7064522/opt/miniconda3/envs/kdrenv/lib/python3.10/site-packages/mlflow/tensorflow/__init__.py:189: UserWarning: The pyfunc inference behavior of Keras models logged with signatures differs from the behavior of Keras models logged without signatures. Specifically, when a signature is present, passing a Pandas DataFrame as input to the pyfunc `predict()` API produces an `ndarray` (for single-output models) or a dictionary of `str -> ndarray`: (for multi-output models). In contrast, when a signature is *not* present, `predict()` produces a Pandas DataFrame output in response to a Pandas DataFrame input.\"\n",
      "WARNING:absl:Found untraced functions such as _update_step_xla while saving (showing 1 of 1). These functions will not be directly callable after loading.\n"
     ]
    },
    {
     "name": "stdout",
     "output_type": "stream",
     "text": [
      "INFO:tensorflow:Assets written to: /var/folders/4g/6c1htv314w9dcb25vhpxqfscjwsh63/T/tmp8605ahti/model/data/model/assets\n"
     ]
    },
    {
     "name": "stderr",
     "output_type": "stream",
     "text": [
      "INFO:tensorflow:Assets written to: /var/folders/4g/6c1htv314w9dcb25vhpxqfscjwsh63/T/tmp8605ahti/model/data/model/assets\n"
     ]
    },
    {
     "name": "stdout",
     "output_type": "stream",
     "text": [
      "Epoch 1/10\n",
      "  1/197 [..............................] - ETA: 3:33 - loss: 160.2893 - sparse_categorical_accuracy: 0.0781WARNING:tensorflow:Callback method `on_train_batch_end` is slow compared to the batch time (batch time: 0.0031s vs `on_train_batch_end` time: 0.0244s). Check your callbacks.\n"
     ]
    },
    {
     "name": "stderr",
     "output_type": "stream",
     "text": [
      "WARNING:tensorflow:Callback method `on_train_batch_end` is slow compared to the batch time (batch time: 0.0031s vs `on_train_batch_end` time: 0.0244s). Check your callbacks.\n"
     ]
    },
    {
     "name": "stdout",
     "output_type": "stream",
     "text": [
      "197/197 [==============================] - 3s 8ms/step - loss: 8.2453 - sparse_categorical_accuracy: 0.8344 - val_loss: 2.6227 - val_sparse_categorical_accuracy: 0.8992\n",
      "Epoch 2/10\n",
      "197/197 [==============================] - 1s 7ms/step - loss: 1.6353 - sparse_categorical_accuracy: 0.9179 - val_loss: 1.9687 - val_sparse_categorical_accuracy: 0.9098\n",
      "Epoch 3/10\n",
      "197/197 [==============================] - 1s 7ms/step - loss: 0.8670 - sparse_categorical_accuracy: 0.9415 - val_loss: 1.4818 - val_sparse_categorical_accuracy: 0.9196\n",
      "Epoch 4/10\n",
      "197/197 [==============================] - 1s 7ms/step - loss: 0.5318 - sparse_categorical_accuracy: 0.9544 - val_loss: 1.3159 - val_sparse_categorical_accuracy: 0.9256\n",
      "Epoch 5/10\n",
      "197/197 [==============================] - 1s 7ms/step - loss: 0.3671 - sparse_categorical_accuracy: 0.9655 - val_loss: 1.3193 - val_sparse_categorical_accuracy: 0.9239\n",
      "Epoch 6/10\n",
      "197/197 [==============================] - 1s 7ms/step - loss: 0.2792 - sparse_categorical_accuracy: 0.9685 - val_loss: 1.1791 - val_sparse_categorical_accuracy: 0.9344\n",
      "Epoch 7/10\n",
      "197/197 [==============================] - 1s 5ms/step - loss: 0.2412 - sparse_categorical_accuracy: 0.9706 - val_loss: 1.1430 - val_sparse_categorical_accuracy: 0.9368\n",
      "Epoch 8/10\n",
      "197/197 [==============================] - 1s 5ms/step - loss: 0.1665 - sparse_categorical_accuracy: 0.9770 - val_loss: 1.1586 - val_sparse_categorical_accuracy: 0.9381\n",
      "Epoch 9/10\n",
      "197/197 [==============================] - 1s 6ms/step - loss: 0.1500 - sparse_categorical_accuracy: 0.9801 - val_loss: 1.1496 - val_sparse_categorical_accuracy: 0.9410\n",
      "Epoch 10/10\n",
      "197/197 [==============================] - 1s 4ms/step - loss: 0.1405 - sparse_categorical_accuracy: 0.9809 - val_loss: 1.1007 - val_sparse_categorical_accuracy: 0.9413\n",
      "1/1 [==============================] - 0s 50ms/step\n"
     ]
    },
    {
     "name": "stderr",
     "output_type": "stream",
     "text": [
      "2022/12/02 15:07:45 WARNING mlflow.utils.autologging_utils: MLflow autologging encountered a warning: \"/Users/b7064522/opt/miniconda3/envs/kdrenv/lib/python3.10/site-packages/mlflow/tensorflow/__init__.py:189: UserWarning: The pyfunc inference behavior of Keras models logged with signatures differs from the behavior of Keras models logged without signatures. Specifically, when a signature is present, passing a Pandas DataFrame as input to the pyfunc `predict()` API produces an `ndarray` (for single-output models) or a dictionary of `str -> ndarray`: (for multi-output models). In contrast, when a signature is *not* present, `predict()` produces a Pandas DataFrame output in response to a Pandas DataFrame input.\"\n",
      "WARNING:absl:Found untraced functions such as _update_step_xla while saving (showing 1 of 1). These functions will not be directly callable after loading.\n"
     ]
    },
    {
     "name": "stdout",
     "output_type": "stream",
     "text": [
      "INFO:tensorflow:Assets written to: /var/folders/4g/6c1htv314w9dcb25vhpxqfscjwsh63/T/tmplw30oqzh/model/data/model/assets\n"
     ]
    },
    {
     "name": "stderr",
     "output_type": "stream",
     "text": [
      "INFO:tensorflow:Assets written to: /var/folders/4g/6c1htv314w9dcb25vhpxqfscjwsh63/T/tmplw30oqzh/model/data/model/assets\n"
     ]
    },
    {
     "name": "stdout",
     "output_type": "stream",
     "text": [
      "Epoch 1/10\n",
      "  1/230 [..............................] - ETA: 4:26 - loss: 128.0901 - sparse_categorical_accuracy: 0.0938WARNING:tensorflow:Callback method `on_train_batch_end` is slow compared to the batch time (batch time: 0.0045s vs `on_train_batch_end` time: 0.0390s). Check your callbacks.\n"
     ]
    },
    {
     "name": "stderr",
     "output_type": "stream",
     "text": [
      "WARNING:tensorflow:Callback method `on_train_batch_end` is slow compared to the batch time (batch time: 0.0045s vs `on_train_batch_end` time: 0.0390s). Check your callbacks.\n"
     ]
    },
    {
     "name": "stdout",
     "output_type": "stream",
     "text": [
      "230/230 [==============================] - 3s 7ms/step - loss: 7.3877 - sparse_categorical_accuracy: 0.8482 - val_loss: 3.0380 - val_sparse_categorical_accuracy: 0.8968\n",
      "Epoch 2/10\n",
      "230/230 [==============================] - 1s 6ms/step - loss: 1.6758 - sparse_categorical_accuracy: 0.9243 - val_loss: 2.0336 - val_sparse_categorical_accuracy: 0.9110\n",
      "Epoch 3/10\n",
      "230/230 [==============================] - 1s 5ms/step - loss: 0.8675 - sparse_categorical_accuracy: 0.9474 - val_loss: 1.6632 - val_sparse_categorical_accuracy: 0.9275\n",
      "Epoch 4/10\n",
      "230/230 [==============================] - 1s 4ms/step - loss: 0.5755 - sparse_categorical_accuracy: 0.9588 - val_loss: 1.3870 - val_sparse_categorical_accuracy: 0.9329\n",
      "Epoch 5/10\n",
      "230/230 [==============================] - 1s 4ms/step - loss: 0.3948 - sparse_categorical_accuracy: 0.9660 - val_loss: 1.3874 - val_sparse_categorical_accuracy: 0.9331\n",
      "Epoch 6/10\n",
      "230/230 [==============================] - 1s 4ms/step - loss: 0.2634 - sparse_categorical_accuracy: 0.9726 - val_loss: 1.2472 - val_sparse_categorical_accuracy: 0.9417\n",
      "Epoch 7/10\n",
      "230/230 [==============================] - 1s 4ms/step - loss: 0.2146 - sparse_categorical_accuracy: 0.9753 - val_loss: 1.1484 - val_sparse_categorical_accuracy: 0.9431\n",
      "Epoch 8/10\n",
      "230/230 [==============================] - 1s 3ms/step - loss: 0.1844 - sparse_categorical_accuracy: 0.9790 - val_loss: 1.1039 - val_sparse_categorical_accuracy: 0.9469\n",
      "Epoch 9/10\n",
      "230/230 [==============================] - 1s 3ms/step - loss: 0.1747 - sparse_categorical_accuracy: 0.9796 - val_loss: 1.2419 - val_sparse_categorical_accuracy: 0.9406\n",
      "Epoch 10/10\n",
      "230/230 [==============================] - 1s 3ms/step - loss: 0.1881 - sparse_categorical_accuracy: 0.9794 - val_loss: 1.1904 - val_sparse_categorical_accuracy: 0.9410\n",
      "1/1 [==============================] - 0s 275ms/step\n"
     ]
    },
    {
     "name": "stderr",
     "output_type": "stream",
     "text": [
      "2022/12/02 15:08:28 WARNING mlflow.utils.autologging_utils: MLflow autologging encountered a warning: \"/Users/b7064522/opt/miniconda3/envs/kdrenv/lib/python3.10/site-packages/mlflow/tensorflow/__init__.py:189: UserWarning: The pyfunc inference behavior of Keras models logged with signatures differs from the behavior of Keras models logged without signatures. Specifically, when a signature is present, passing a Pandas DataFrame as input to the pyfunc `predict()` API produces an `ndarray` (for single-output models) or a dictionary of `str -> ndarray`: (for multi-output models). In contrast, when a signature is *not* present, `predict()` produces a Pandas DataFrame output in response to a Pandas DataFrame input.\"\n",
      "WARNING:absl:Found untraced functions such as _update_step_xla while saving (showing 1 of 1). These functions will not be directly callable after loading.\n"
     ]
    },
    {
     "name": "stdout",
     "output_type": "stream",
     "text": [
      "INFO:tensorflow:Assets written to: /var/folders/4g/6c1htv314w9dcb25vhpxqfscjwsh63/T/tmpgk_agshx/model/data/model/assets\n"
     ]
    },
    {
     "name": "stderr",
     "output_type": "stream",
     "text": [
      "INFO:tensorflow:Assets written to: /var/folders/4g/6c1htv314w9dcb25vhpxqfscjwsh63/T/tmpgk_agshx/model/data/model/assets\n"
     ]
    },
    {
     "name": "stdout",
     "output_type": "stream",
     "text": [
      "Epoch 1/10\n",
      "  3/263 [..............................] - ETA: 7s - loss: 111.7520 - sparse_categorical_accuracy: 0.1484  WARNING:tensorflow:Callback method `on_train_batch_end` is slow compared to the batch time (batch time: 0.0049s vs `on_train_batch_end` time: 0.0310s). Check your callbacks.\n"
     ]
    },
    {
     "name": "stderr",
     "output_type": "stream",
     "text": [
      "WARNING:tensorflow:Callback method `on_train_batch_end` is slow compared to the batch time (batch time: 0.0049s vs `on_train_batch_end` time: 0.0310s). Check your callbacks.\n"
     ]
    },
    {
     "name": "stdout",
     "output_type": "stream",
     "text": [
      "263/263 [==============================] - 3s 7ms/step - loss: 6.9597 - sparse_categorical_accuracy: 0.8520 - val_loss: 2.4865 - val_sparse_categorical_accuracy: 0.9002\n",
      "Epoch 2/10\n",
      "263/263 [==============================] - 1s 5ms/step - loss: 1.4786 - sparse_categorical_accuracy: 0.9248 - val_loss: 1.6985 - val_sparse_categorical_accuracy: 0.9110\n",
      "Epoch 3/10\n",
      "263/263 [==============================] - 1s 5ms/step - loss: 0.7993 - sparse_categorical_accuracy: 0.9435 - val_loss: 1.2883 - val_sparse_categorical_accuracy: 0.9229\n",
      "Epoch 4/10\n",
      "263/263 [==============================] - 1s 5ms/step - loss: 0.4822 - sparse_categorical_accuracy: 0.9567 - val_loss: 1.0693 - val_sparse_categorical_accuracy: 0.9335\n",
      "Epoch 5/10\n",
      "263/263 [==============================] - 1s 4ms/step - loss: 0.3576 - sparse_categorical_accuracy: 0.9643 - val_loss: 1.1454 - val_sparse_categorical_accuracy: 0.9270\n",
      "Epoch 6/10\n",
      "263/263 [==============================] - 1s 3ms/step - loss: 0.2483 - sparse_categorical_accuracy: 0.9701 - val_loss: 0.9941 - val_sparse_categorical_accuracy: 0.9364\n",
      "Epoch 7/10\n",
      "263/263 [==============================] - 1s 3ms/step - loss: 0.1927 - sparse_categorical_accuracy: 0.9734 - val_loss: 0.9778 - val_sparse_categorical_accuracy: 0.9411\n",
      "Epoch 8/10\n",
      "263/263 [==============================] - 1s 3ms/step - loss: 0.1827 - sparse_categorical_accuracy: 0.9750 - val_loss: 0.9905 - val_sparse_categorical_accuracy: 0.9410\n",
      "Epoch 9/10\n",
      "263/263 [==============================] - 1s 3ms/step - loss: 0.1453 - sparse_categorical_accuracy: 0.9789 - val_loss: 0.9360 - val_sparse_categorical_accuracy: 0.9433\n",
      "Epoch 10/10\n",
      "263/263 [==============================] - 1s 3ms/step - loss: 0.1551 - sparse_categorical_accuracy: 0.9783 - val_loss: 0.9739 - val_sparse_categorical_accuracy: 0.9377\n",
      "1/1 [==============================] - 0s 52ms/step\n"
     ]
    },
    {
     "name": "stderr",
     "output_type": "stream",
     "text": [
      "2022/12/02 15:09:04 WARNING mlflow.utils.autologging_utils: MLflow autologging encountered a warning: \"/Users/b7064522/opt/miniconda3/envs/kdrenv/lib/python3.10/site-packages/mlflow/tensorflow/__init__.py:189: UserWarning: The pyfunc inference behavior of Keras models logged with signatures differs from the behavior of Keras models logged without signatures. Specifically, when a signature is present, passing a Pandas DataFrame as input to the pyfunc `predict()` API produces an `ndarray` (for single-output models) or a dictionary of `str -> ndarray`: (for multi-output models). In contrast, when a signature is *not* present, `predict()` produces a Pandas DataFrame output in response to a Pandas DataFrame input.\"\n",
      "WARNING:absl:Found untraced functions such as _update_step_xla while saving (showing 1 of 1). These functions will not be directly callable after loading.\n"
     ]
    },
    {
     "name": "stdout",
     "output_type": "stream",
     "text": [
      "INFO:tensorflow:Assets written to: /var/folders/4g/6c1htv314w9dcb25vhpxqfscjwsh63/T/tmp7gks39oj/model/data/model/assets\n"
     ]
    },
    {
     "name": "stderr",
     "output_type": "stream",
     "text": [
      "INFO:tensorflow:Assets written to: /var/folders/4g/6c1htv314w9dcb25vhpxqfscjwsh63/T/tmp7gks39oj/model/data/model/assets\n"
     ]
    },
    {
     "name": "stdout",
     "output_type": "stream",
     "text": [
      "Epoch 1/10\n",
      "  1/296 [..............................] - ETA: 7:43 - loss: 98.3047 - sparse_categorical_accuracy: 0.2500WARNING:tensorflow:Callback method `on_train_batch_end` is slow compared to the batch time (batch time: 0.0030s vs `on_train_batch_end` time: 0.0223s). Check your callbacks.\n"
     ]
    },
    {
     "name": "stderr",
     "output_type": "stream",
     "text": [
      "WARNING:tensorflow:Callback method `on_train_batch_end` is slow compared to the batch time (batch time: 0.0030s vs `on_train_batch_end` time: 0.0223s). Check your callbacks.\n"
     ]
    },
    {
     "name": "stdout",
     "output_type": "stream",
     "text": [
      "296/296 [==============================] - 3s 6ms/step - loss: 5.2844 - sparse_categorical_accuracy: 0.8500 - val_loss: 1.7116 - val_sparse_categorical_accuracy: 0.8917\n",
      "Epoch 2/10\n",
      "296/296 [==============================] - 1s 5ms/step - loss: 0.9131 - sparse_categorical_accuracy: 0.9044 - val_loss: 1.0341 - val_sparse_categorical_accuracy: 0.8938\n",
      "Epoch 3/10\n",
      "296/296 [==============================] - 1s 4ms/step - loss: 0.4792 - sparse_categorical_accuracy: 0.9243 - val_loss: 0.6617 - val_sparse_categorical_accuracy: 0.9148\n",
      "Epoch 4/10\n",
      "296/296 [==============================] - 1s 4ms/step - loss: 0.2978 - sparse_categorical_accuracy: 0.9434 - val_loss: 0.6133 - val_sparse_categorical_accuracy: 0.9198\n",
      "Epoch 5/10\n",
      "296/296 [==============================] - 1s 4ms/step - loss: 0.2107 - sparse_categorical_accuracy: 0.9519 - val_loss: 0.5581 - val_sparse_categorical_accuracy: 0.9243\n",
      "Epoch 6/10\n",
      "296/296 [==============================] - 1s 3ms/step - loss: 0.1636 - sparse_categorical_accuracy: 0.9597 - val_loss: 0.5328 - val_sparse_categorical_accuracy: 0.9319\n",
      "Epoch 7/10\n",
      "296/296 [==============================] - 1s 3ms/step - loss: 0.1626 - sparse_categorical_accuracy: 0.9607 - val_loss: 0.5916 - val_sparse_categorical_accuracy: 0.9302\n",
      "Epoch 8/10\n",
      "296/296 [==============================] - 1s 3ms/step - loss: 0.1386 - sparse_categorical_accuracy: 0.9651 - val_loss: 0.5421 - val_sparse_categorical_accuracy: 0.9338\n",
      "Epoch 9/10\n",
      "296/296 [==============================] - 1s 3ms/step - loss: 0.1343 - sparse_categorical_accuracy: 0.9665 - val_loss: 0.4834 - val_sparse_categorical_accuracy: 0.9400\n",
      "Epoch 10/10\n",
      "296/296 [==============================] - 1s 3ms/step - loss: 0.1303 - sparse_categorical_accuracy: 0.9687 - val_loss: 0.5142 - val_sparse_categorical_accuracy: 0.9362\n",
      "1/1 [==============================] - 0s 50ms/step\n"
     ]
    },
    {
     "name": "stderr",
     "output_type": "stream",
     "text": [
      "2022/12/02 15:09:39 WARNING mlflow.utils.autologging_utils: MLflow autologging encountered a warning: \"/Users/b7064522/opt/miniconda3/envs/kdrenv/lib/python3.10/site-packages/mlflow/tensorflow/__init__.py:189: UserWarning: The pyfunc inference behavior of Keras models logged with signatures differs from the behavior of Keras models logged without signatures. Specifically, when a signature is present, passing a Pandas DataFrame as input to the pyfunc `predict()` API produces an `ndarray` (for single-output models) or a dictionary of `str -> ndarray`: (for multi-output models). In contrast, when a signature is *not* present, `predict()` produces a Pandas DataFrame output in response to a Pandas DataFrame input.\"\n",
      "WARNING:absl:Found untraced functions such as _update_step_xla while saving (showing 1 of 1). These functions will not be directly callable after loading.\n"
     ]
    },
    {
     "name": "stdout",
     "output_type": "stream",
     "text": [
      "INFO:tensorflow:Assets written to: /var/folders/4g/6c1htv314w9dcb25vhpxqfscjwsh63/T/tmpm_19_03r/model/data/model/assets\n"
     ]
    },
    {
     "name": "stderr",
     "output_type": "stream",
     "text": [
      "INFO:tensorflow:Assets written to: /var/folders/4g/6c1htv314w9dcb25vhpxqfscjwsh63/T/tmpm_19_03r/model/data/model/assets\n"
     ]
    }
   ],
   "source": [
    "experiment_id = mlflow.create_experiment(\n",
    "    'pipeline-experiments-split_size', #type: ignore\n",
    "    artifact_location=Path.cwd().joinpath('../artifacts').as_uri(),\n",
    "    tags={'version': 'v1', 'priority': 'P1'},\n",
    ")\n",
    "experiment = mlflow.get_experiment(experiment_id)\n",
    "print(f'Name: {experiment.name}')\n",
    "print(f'Experiment_id: {experiment.experiment_id}')\n",
    "print(f'Artifact Location: {experiment.artifact_location}')\n",
    "print(f'Tags: {experiment.tags}')\n",
    "print(f'Lifecycle_stage: {experiment.lifecycle_stage}')\n",
    "print(f'Creation timestamp: {experiment.creation_time}')\n",
    "\n",
    "BATCH_SIZE = 128\n",
    "SPLIT_SIZES = [0.5, 0.6, 0.7, 0.8, 0.9]\n",
    "RESCALE = None\n",
    "ROTATION = None\n",
    "TRANSLATION = None\n",
    "BRIGHTEN = None\n",
    "EPOCHS = 10\n",
    "\n",
    "\n",
    "for SPLIT_SIZE in SPLIT_SIZES:\n",
    "    with mlflow.start_run(\n",
    "        run_name=f'run_split_size_{str(SPLIT_SIZE).zfill(3)}',\n",
    "        experiment_id=experiment_id\n",
    "        ):\n",
    "        mlflow.log_param('SPLIT_SIZE', SPLIT_SIZE)\n",
    "        mlflow.log_param(\"BATCH_SIZE\", BATCH_SIZE)\n",
    "        mlflow.log_param('RESCALE', RESCALE)\n",
    "        mlflow.log_param('ROTATION', ROTATION)\n",
    "        mlflow.log_param('TRANSLATION', TRANSLATION)\n",
    "        mlflow.log_param('BRIGHTEN', BRIGHTEN)\n",
    "        mlflow.log_param('EPOCHS', EPOCHS)\n",
    "\n",
    "\n",
    "        train_ds, val_ds = tf.keras.utils.split_dataset(\n",
    "            data_loader.load_training_data(),\n",
    "            left_size = SPLIT_SIZE,\n",
    "            shuffle=True\n",
    "        )\n",
    "\n",
    "        train_ds = prepare(\n",
    "            train_ds,\n",
    "            rescale=RESCALE,\n",
    "            batch_size=BATCH_SIZE,\n",
    "            rotation=ROTATION,\n",
    "            translation=TRANSLATION,\n",
    "            brightness=BRIGHTEN\n",
    "        )\n",
    "\n",
    "        val_ds = prepare(\n",
    "            val_ds,\n",
    "            rescale=RESCALE,\n",
    "            batch_size=BATCH_SIZE,\n",
    "            rotation=ROTATION,\n",
    "            translation=TRANSLATION,\n",
    "            brightness=BRIGHTEN\n",
    "        )\n",
    "        \n",
    "        model = tf.keras.Sequential([\n",
    "            tf.keras.layers.Flatten(input_shape=(28, 28, 1)),\n",
    "            tf.keras.layers.Dense(128, activation='relu'),\n",
    "            tf.keras.layers.Dense(10)\n",
    "            ])  \n",
    "        model.compile(\n",
    "            optimizer=tf.keras.optimizers.Adam(0.001),\n",
    "            loss=tf.keras.losses.SparseCategoricalCrossentropy(from_logits=True),\n",
    "            metrics=['sparse_categorical_accuracy'])\n",
    "        history = model.fit(train_ds, epochs=EPOCHS, validation_data=val_ds)"
   ]
  },
  {
   "cell_type": "markdown",
   "metadata": {},
   "source": [
    "## Experiment Batch size\n",
    "\n",
    "We see the impact of batch size."
   ]
  },
  {
   "cell_type": "code",
   "execution_count": 7,
   "metadata": {},
   "outputs": [
    {
     "name": "stdout",
     "output_type": "stream",
     "text": [
      "Name: pipeline-experiments-batch_size\n",
      "Experiment_id: 2\n",
      "Artifact Location: file:///Users/b7064522/Documents/DataScience/kaggle-digit-recognizer/notebooks/../artifacts\n",
      "Tags: {'version': 'v1', 'priority': 'P1'}\n",
      "Lifecycle_stage: active\n",
      "Creation timestamp: 1669993788865\n",
      "Epoch 1/10\n",
      "   1/1050 [..............................] - ETA: 17:47 - loss: 143.8230 - sparse_categorical_accuracy: 0.0938WARNING:tensorflow:Callback method `on_train_batch_end` is slow compared to the batch time (batch time: 0.0029s vs `on_train_batch_end` time: 0.0207s). Check your callbacks.\n"
     ]
    },
    {
     "name": "stderr",
     "output_type": "stream",
     "text": [
      "WARNING:tensorflow:Callback method `on_train_batch_end` is slow compared to the batch time (batch time: 0.0029s vs `on_train_batch_end` time: 0.0207s). Check your callbacks.\n"
     ]
    },
    {
     "name": "stdout",
     "output_type": "stream",
     "text": [
      "1050/1050 [==============================] - 6s 4ms/step - loss: 4.1288 - sparse_categorical_accuracy: 0.8606 - val_loss: 0.7886 - val_sparse_categorical_accuracy: 0.8838\n",
      "Epoch 2/10\n",
      "1050/1050 [==============================] - 3s 3ms/step - loss: 0.5376 - sparse_categorical_accuracy: 0.8947 - val_loss: 0.5084 - val_sparse_categorical_accuracy: 0.9071\n",
      "Epoch 3/10\n",
      "1050/1050 [==============================] - 3s 2ms/step - loss: 0.3566 - sparse_categorical_accuracy: 0.9154 - val_loss: 0.4103 - val_sparse_categorical_accuracy: 0.9183\n",
      "Epoch 4/10\n",
      "1050/1050 [==============================] - 3s 2ms/step - loss: 0.3003 - sparse_categorical_accuracy: 0.9270 - val_loss: 0.3792 - val_sparse_categorical_accuracy: 0.9250\n",
      "Epoch 5/10\n",
      "1050/1050 [==============================] - 3s 2ms/step - loss: 0.2779 - sparse_categorical_accuracy: 0.9316 - val_loss: 0.4539 - val_sparse_categorical_accuracy: 0.9288\n",
      "Epoch 6/10\n",
      "1050/1050 [==============================] - 3s 2ms/step - loss: 0.2651 - sparse_categorical_accuracy: 0.9347 - val_loss: 0.4324 - val_sparse_categorical_accuracy: 0.9243\n",
      "Epoch 7/10\n",
      "1050/1050 [==============================] - 2s 2ms/step - loss: 0.2482 - sparse_categorical_accuracy: 0.9374 - val_loss: 0.3915 - val_sparse_categorical_accuracy: 0.9301\n",
      "Epoch 8/10\n",
      "1050/1050 [==============================] - 3s 2ms/step - loss: 0.2174 - sparse_categorical_accuracy: 0.9451 - val_loss: 0.3949 - val_sparse_categorical_accuracy: 0.9346\n",
      "Epoch 9/10\n",
      "1050/1050 [==============================] - 3s 2ms/step - loss: 0.2167 - sparse_categorical_accuracy: 0.9451 - val_loss: 0.3495 - val_sparse_categorical_accuracy: 0.9412\n",
      "Epoch 10/10\n",
      "1050/1050 [==============================] - 3s 2ms/step - loss: 0.1956 - sparse_categorical_accuracy: 0.9503 - val_loss: 0.3145 - val_sparse_categorical_accuracy: 0.9432\n",
      "1/1 [==============================] - 0s 51ms/step\n"
     ]
    },
    {
     "name": "stderr",
     "output_type": "stream",
     "text": [
      "2022/12/02 15:10:30 WARNING mlflow.utils.autologging_utils: MLflow autologging encountered a warning: \"/Users/b7064522/opt/miniconda3/envs/kdrenv/lib/python3.10/site-packages/mlflow/tensorflow/__init__.py:189: UserWarning: The pyfunc inference behavior of Keras models logged with signatures differs from the behavior of Keras models logged without signatures. Specifically, when a signature is present, passing a Pandas DataFrame as input to the pyfunc `predict()` API produces an `ndarray` (for single-output models) or a dictionary of `str -> ndarray`: (for multi-output models). In contrast, when a signature is *not* present, `predict()` produces a Pandas DataFrame output in response to a Pandas DataFrame input.\"\n",
      "WARNING:absl:Found untraced functions such as _update_step_xla while saving (showing 1 of 1). These functions will not be directly callable after loading.\n"
     ]
    },
    {
     "name": "stdout",
     "output_type": "stream",
     "text": [
      "INFO:tensorflow:Assets written to: /var/folders/4g/6c1htv314w9dcb25vhpxqfscjwsh63/T/tmp7sdhmwm1/model/data/model/assets\n"
     ]
    },
    {
     "name": "stderr",
     "output_type": "stream",
     "text": [
      "INFO:tensorflow:Assets written to: /var/folders/4g/6c1htv314w9dcb25vhpxqfscjwsh63/T/tmp7sdhmwm1/model/data/model/assets\n"
     ]
    },
    {
     "name": "stdout",
     "output_type": "stream",
     "text": [
      "Epoch 1/10\n",
      "  1/525 [..............................] - ETA: 8:41 - loss: 178.4602 - sparse_categorical_accuracy: 0.1250WARNING:tensorflow:Callback method `on_train_batch_end` is slow compared to the batch time (batch time: 0.0023s vs `on_train_batch_end` time: 0.0187s). Check your callbacks.\n"
     ]
    },
    {
     "name": "stderr",
     "output_type": "stream",
     "text": [
      "WARNING:tensorflow:Callback method `on_train_batch_end` is slow compared to the batch time (batch time: 0.0023s vs `on_train_batch_end` time: 0.0187s). Check your callbacks.\n"
     ]
    },
    {
     "name": "stdout",
     "output_type": "stream",
     "text": [
      "525/525 [==============================] - 4s 5ms/step - loss: 5.0130 - sparse_categorical_accuracy: 0.8492 - val_loss: 1.0269 - val_sparse_categorical_accuracy: 0.8681\n",
      "Epoch 2/10\n",
      "525/525 [==============================] - 1s 3ms/step - loss: 0.6743 - sparse_categorical_accuracy: 0.8928 - val_loss: 0.5507 - val_sparse_categorical_accuracy: 0.8961\n",
      "Epoch 3/10\n",
      "525/525 [==============================] - 1s 3ms/step - loss: 0.3633 - sparse_categorical_accuracy: 0.9183 - val_loss: 0.4344 - val_sparse_categorical_accuracy: 0.9118\n",
      "Epoch 4/10\n",
      "525/525 [==============================] - 1s 3ms/step - loss: 0.2670 - sparse_categorical_accuracy: 0.9351 - val_loss: 0.4034 - val_sparse_categorical_accuracy: 0.9176\n",
      "Epoch 5/10\n",
      "525/525 [==============================] - 1s 3ms/step - loss: 0.2270 - sparse_categorical_accuracy: 0.9436 - val_loss: 0.3555 - val_sparse_categorical_accuracy: 0.9299\n",
      "Epoch 6/10\n",
      "525/525 [==============================] - 1s 3ms/step - loss: 0.2002 - sparse_categorical_accuracy: 0.9485 - val_loss: 0.3560 - val_sparse_categorical_accuracy: 0.9315\n",
      "Epoch 7/10\n",
      "525/525 [==============================] - 1s 3ms/step - loss: 0.1920 - sparse_categorical_accuracy: 0.9507 - val_loss: 0.3453 - val_sparse_categorical_accuracy: 0.9333\n",
      "Epoch 8/10\n",
      "525/525 [==============================] - 1s 3ms/step - loss: 0.1694 - sparse_categorical_accuracy: 0.9552 - val_loss: 0.3570 - val_sparse_categorical_accuracy: 0.9304\n",
      "Epoch 9/10\n",
      "525/525 [==============================] - 1s 3ms/step - loss: 0.1736 - sparse_categorical_accuracy: 0.9545 - val_loss: 0.3059 - val_sparse_categorical_accuracy: 0.9411\n",
      "Epoch 10/10\n",
      "525/525 [==============================] - 1s 3ms/step - loss: 0.1619 - sparse_categorical_accuracy: 0.9578 - val_loss: 0.2988 - val_sparse_categorical_accuracy: 0.9473\n",
      "1/1 [==============================] - 0s 51ms/step\n"
     ]
    },
    {
     "name": "stderr",
     "output_type": "stream",
     "text": [
      "2022/12/02 15:11:12 WARNING mlflow.utils.autologging_utils: MLflow autologging encountered a warning: \"/Users/b7064522/opt/miniconda3/envs/kdrenv/lib/python3.10/site-packages/mlflow/tensorflow/__init__.py:189: UserWarning: The pyfunc inference behavior of Keras models logged with signatures differs from the behavior of Keras models logged without signatures. Specifically, when a signature is present, passing a Pandas DataFrame as input to the pyfunc `predict()` API produces an `ndarray` (for single-output models) or a dictionary of `str -> ndarray`: (for multi-output models). In contrast, when a signature is *not* present, `predict()` produces a Pandas DataFrame output in response to a Pandas DataFrame input.\"\n",
      "WARNING:absl:Found untraced functions such as _update_step_xla while saving (showing 1 of 1). These functions will not be directly callable after loading.\n"
     ]
    },
    {
     "name": "stdout",
     "output_type": "stream",
     "text": [
      "INFO:tensorflow:Assets written to: /var/folders/4g/6c1htv314w9dcb25vhpxqfscjwsh63/T/tmpmzryxuk_/model/data/model/assets\n"
     ]
    },
    {
     "name": "stderr",
     "output_type": "stream",
     "text": [
      "INFO:tensorflow:Assets written to: /var/folders/4g/6c1htv314w9dcb25vhpxqfscjwsh63/T/tmpmzryxuk_/model/data/model/assets\n"
     ]
    },
    {
     "name": "stdout",
     "output_type": "stream",
     "text": [
      "Epoch 1/10\n",
      "  1/263 [..............................] - ETA: 4:44 - loss: 142.3464 - sparse_categorical_accuracy: 0.0703WARNING:tensorflow:Callback method `on_train_batch_end` is slow compared to the batch time (batch time: 0.0047s vs `on_train_batch_end` time: 0.0295s). Check your callbacks.\n"
     ]
    },
    {
     "name": "stderr",
     "output_type": "stream",
     "text": [
      "WARNING:tensorflow:Callback method `on_train_batch_end` is slow compared to the batch time (batch time: 0.0047s vs `on_train_batch_end` time: 0.0295s). Check your callbacks.\n"
     ]
    },
    {
     "name": "stdout",
     "output_type": "stream",
     "text": [
      "263/263 [==============================] - 3s 7ms/step - loss: 6.2526 - sparse_categorical_accuracy: 0.8485 - val_loss: 1.8225 - val_sparse_categorical_accuracy: 0.8942\n",
      "Epoch 2/10\n",
      "263/263 [==============================] - 1s 6ms/step - loss: 1.1621 - sparse_categorical_accuracy: 0.9147 - val_loss: 1.0741 - val_sparse_categorical_accuracy: 0.9139\n",
      "Epoch 3/10\n",
      "263/263 [==============================] - 1s 5ms/step - loss: 0.5728 - sparse_categorical_accuracy: 0.9355 - val_loss: 0.8734 - val_sparse_categorical_accuracy: 0.9229\n",
      "Epoch 4/10\n",
      "263/263 [==============================] - 1s 5ms/step - loss: 0.3514 - sparse_categorical_accuracy: 0.9494 - val_loss: 0.7642 - val_sparse_categorical_accuracy: 0.9246\n",
      "Epoch 5/10\n",
      "263/263 [==============================] - 1s 5ms/step - loss: 0.2398 - sparse_categorical_accuracy: 0.9577 - val_loss: 0.7053 - val_sparse_categorical_accuracy: 0.9246\n",
      "Epoch 6/10\n",
      "263/263 [==============================] - 2s 6ms/step - loss: 0.1791 - sparse_categorical_accuracy: 0.9637 - val_loss: 0.6586 - val_sparse_categorical_accuracy: 0.9344\n",
      "Epoch 7/10\n",
      "263/263 [==============================] - 2s 6ms/step - loss: 0.1494 - sparse_categorical_accuracy: 0.9677 - val_loss: 0.6624 - val_sparse_categorical_accuracy: 0.9349\n",
      "Epoch 8/10\n",
      "263/263 [==============================] - 1s 6ms/step - loss: 0.1298 - sparse_categorical_accuracy: 0.9712 - val_loss: 0.5956 - val_sparse_categorical_accuracy: 0.9417\n",
      "Epoch 9/10\n",
      "263/263 [==============================] - 2s 6ms/step - loss: 0.1302 - sparse_categorical_accuracy: 0.9713 - val_loss: 0.5866 - val_sparse_categorical_accuracy: 0.9388\n",
      "Epoch 10/10\n",
      "263/263 [==============================] - 1s 4ms/step - loss: 0.1236 - sparse_categorical_accuracy: 0.9716 - val_loss: 0.6086 - val_sparse_categorical_accuracy: 0.9389\n",
      "1/1 [==============================] - 0s 53ms/step\n"
     ]
    },
    {
     "name": "stderr",
     "output_type": "stream",
     "text": [
      "2022/12/02 15:11:52 WARNING mlflow.utils.autologging_utils: MLflow autologging encountered a warning: \"/Users/b7064522/opt/miniconda3/envs/kdrenv/lib/python3.10/site-packages/mlflow/tensorflow/__init__.py:189: UserWarning: The pyfunc inference behavior of Keras models logged with signatures differs from the behavior of Keras models logged without signatures. Specifically, when a signature is present, passing a Pandas DataFrame as input to the pyfunc `predict()` API produces an `ndarray` (for single-output models) or a dictionary of `str -> ndarray`: (for multi-output models). In contrast, when a signature is *not* present, `predict()` produces a Pandas DataFrame output in response to a Pandas DataFrame input.\"\n",
      "WARNING:absl:Found untraced functions such as _update_step_xla while saving (showing 1 of 1). These functions will not be directly callable after loading.\n"
     ]
    },
    {
     "name": "stdout",
     "output_type": "stream",
     "text": [
      "INFO:tensorflow:Assets written to: /var/folders/4g/6c1htv314w9dcb25vhpxqfscjwsh63/T/tmpafuzoq28/model/data/model/assets\n"
     ]
    },
    {
     "name": "stderr",
     "output_type": "stream",
     "text": [
      "INFO:tensorflow:Assets written to: /var/folders/4g/6c1htv314w9dcb25vhpxqfscjwsh63/T/tmpafuzoq28/model/data/model/assets\n"
     ]
    },
    {
     "name": "stdout",
     "output_type": "stream",
     "text": [
      "Epoch 1/10\n",
      "  3/132 [..............................] - ETA: 8s - loss: 92.8722 - sparse_categorical_accuracy: 0.1849  WARNING:tensorflow:Callback method `on_train_batch_end` is slow compared to the batch time (batch time: 0.0061s vs `on_train_batch_end` time: 0.0572s). Check your callbacks.\n"
     ]
    },
    {
     "name": "stderr",
     "output_type": "stream",
     "text": [
      "WARNING:tensorflow:Callback method `on_train_batch_end` is slow compared to the batch time (batch time: 0.0061s vs `on_train_batch_end` time: 0.0572s). Check your callbacks.\n"
     ]
    },
    {
     "name": "stdout",
     "output_type": "stream",
     "text": [
      "132/132 [==============================] - 3s 13ms/step - loss: 8.6526 - sparse_categorical_accuracy: 0.8257 - val_loss: 2.5750 - val_sparse_categorical_accuracy: 0.8956\n",
      "Epoch 2/10\n",
      "132/132 [==============================] - 1s 7ms/step - loss: 1.7444 - sparse_categorical_accuracy: 0.9135 - val_loss: 1.7305 - val_sparse_categorical_accuracy: 0.9151\n",
      "Epoch 3/10\n",
      "132/132 [==============================] - 1s 7ms/step - loss: 0.9651 - sparse_categorical_accuracy: 0.9347 - val_loss: 1.3148 - val_sparse_categorical_accuracy: 0.9263\n",
      "Epoch 4/10\n",
      "132/132 [==============================] - 1s 8ms/step - loss: 0.6166 - sparse_categorical_accuracy: 0.9479 - val_loss: 1.2160 - val_sparse_categorical_accuracy: 0.9310\n",
      "Epoch 5/10\n",
      "132/132 [==============================] - 1s 8ms/step - loss: 0.4190 - sparse_categorical_accuracy: 0.9573 - val_loss: 1.1331 - val_sparse_categorical_accuracy: 0.9336\n",
      "Epoch 6/10\n",
      "132/132 [==============================] - 1s 6ms/step - loss: 0.3118 - sparse_categorical_accuracy: 0.9635 - val_loss: 1.0559 - val_sparse_categorical_accuracy: 0.9380\n",
      "Epoch 7/10\n",
      "132/132 [==============================] - 1s 7ms/step - loss: 0.2148 - sparse_categorical_accuracy: 0.9708 - val_loss: 1.0563 - val_sparse_categorical_accuracy: 0.9371\n",
      "Epoch 8/10\n",
      "132/132 [==============================] - 1s 5ms/step - loss: 0.1850 - sparse_categorical_accuracy: 0.9735 - val_loss: 1.0039 - val_sparse_categorical_accuracy: 0.9401\n",
      "Epoch 9/10\n",
      "132/132 [==============================] - 1s 4ms/step - loss: 0.1412 - sparse_categorical_accuracy: 0.9780 - val_loss: 0.9751 - val_sparse_categorical_accuracy: 0.9407\n",
      "Epoch 10/10\n",
      "132/132 [==============================] - 1s 4ms/step - loss: 0.1165 - sparse_categorical_accuracy: 0.9809 - val_loss: 0.9078 - val_sparse_categorical_accuracy: 0.9424\n",
      "1/1 [==============================] - 0s 51ms/step\n"
     ]
    },
    {
     "name": "stderr",
     "output_type": "stream",
     "text": [
      "2022/12/02 15:12:55 WARNING mlflow.utils.autologging_utils: MLflow autologging encountered a warning: \"/Users/b7064522/opt/miniconda3/envs/kdrenv/lib/python3.10/site-packages/mlflow/tensorflow/__init__.py:189: UserWarning: The pyfunc inference behavior of Keras models logged with signatures differs from the behavior of Keras models logged without signatures. Specifically, when a signature is present, passing a Pandas DataFrame as input to the pyfunc `predict()` API produces an `ndarray` (for single-output models) or a dictionary of `str -> ndarray`: (for multi-output models). In contrast, when a signature is *not* present, `predict()` produces a Pandas DataFrame output in response to a Pandas DataFrame input.\"\n",
      "WARNING:absl:Found untraced functions such as _update_step_xla while saving (showing 1 of 1). These functions will not be directly callable after loading.\n"
     ]
    },
    {
     "name": "stdout",
     "output_type": "stream",
     "text": [
      "INFO:tensorflow:Assets written to: /var/folders/4g/6c1htv314w9dcb25vhpxqfscjwsh63/T/tmppr4mmmpf/model/data/model/assets\n"
     ]
    },
    {
     "name": "stderr",
     "output_type": "stream",
     "text": [
      "INFO:tensorflow:Assets written to: /var/folders/4g/6c1htv314w9dcb25vhpxqfscjwsh63/T/tmppr4mmmpf/model/data/model/assets\n"
     ]
    },
    {
     "name": "stdout",
     "output_type": "stream",
     "text": [
      "Epoch 1/10\n",
      " 6/66 [=>............................] - ETA: 0s - loss: 100.0527 - sparse_categorical_accuracy: 0.1908  WARNING:tensorflow:Callback method `on_train_batch_end` is slow compared to the batch time (batch time: 0.0066s vs `on_train_batch_end` time: 0.0689s). Check your callbacks.\n"
     ]
    },
    {
     "name": "stderr",
     "output_type": "stream",
     "text": [
      "WARNING:tensorflow:Callback method `on_train_batch_end` is slow compared to the batch time (batch time: 0.0066s vs `on_train_batch_end` time: 0.0689s). Check your callbacks.\n"
     ]
    },
    {
     "name": "stdout",
     "output_type": "stream",
     "text": [
      "66/66 [==============================] - 4s 20ms/step - loss: 17.8303 - sparse_categorical_accuracy: 0.7488 - val_loss: 4.3591 - val_sparse_categorical_accuracy: 0.8775\n",
      "Epoch 2/10\n",
      "66/66 [==============================] - 1s 12ms/step - loss: 3.1410 - sparse_categorical_accuracy: 0.8942 - val_loss: 2.6688 - val_sparse_categorical_accuracy: 0.8998\n",
      "Epoch 3/10\n",
      "66/66 [==============================] - 1s 10ms/step - loss: 1.8921 - sparse_categorical_accuracy: 0.9175 - val_loss: 2.1404 - val_sparse_categorical_accuracy: 0.9106\n",
      "Epoch 4/10\n",
      "66/66 [==============================] - 1s 10ms/step - loss: 1.2709 - sparse_categorical_accuracy: 0.9345 - val_loss: 1.8445 - val_sparse_categorical_accuracy: 0.9167\n",
      "Epoch 5/10\n",
      "66/66 [==============================] - 1s 10ms/step - loss: 0.9187 - sparse_categorical_accuracy: 0.9449 - val_loss: 1.6058 - val_sparse_categorical_accuracy: 0.9260\n",
      "Epoch 6/10\n",
      "66/66 [==============================] - 1s 11ms/step - loss: 0.6826 - sparse_categorical_accuracy: 0.9524 - val_loss: 1.5089 - val_sparse_categorical_accuracy: 0.9263\n",
      "Epoch 7/10\n",
      "66/66 [==============================] - 1s 10ms/step - loss: 0.5119 - sparse_categorical_accuracy: 0.9595 - val_loss: 1.4934 - val_sparse_categorical_accuracy: 0.9240\n",
      "Epoch 8/10\n",
      "66/66 [==============================] - 1s 10ms/step - loss: 0.4011 - sparse_categorical_accuracy: 0.9650 - val_loss: 1.4312 - val_sparse_categorical_accuracy: 0.9273\n",
      "Epoch 9/10\n",
      "66/66 [==============================] - 1s 11ms/step - loss: 0.3163 - sparse_categorical_accuracy: 0.9694 - val_loss: 1.4266 - val_sparse_categorical_accuracy: 0.9277\n",
      "Epoch 10/10\n",
      "66/66 [==============================] - 1s 9ms/step - loss: 0.2700 - sparse_categorical_accuracy: 0.9718 - val_loss: 1.3548 - val_sparse_categorical_accuracy: 0.9311\n",
      "1/1 [==============================] - 0s 92ms/step\n"
     ]
    },
    {
     "name": "stderr",
     "output_type": "stream",
     "text": [
      "2022/12/02 15:13:34 WARNING mlflow.utils.autologging_utils: MLflow autologging encountered a warning: \"/Users/b7064522/opt/miniconda3/envs/kdrenv/lib/python3.10/site-packages/mlflow/tensorflow/__init__.py:189: UserWarning: The pyfunc inference behavior of Keras models logged with signatures differs from the behavior of Keras models logged without signatures. Specifically, when a signature is present, passing a Pandas DataFrame as input to the pyfunc `predict()` API produces an `ndarray` (for single-output models) or a dictionary of `str -> ndarray`: (for multi-output models). In contrast, when a signature is *not* present, `predict()` produces a Pandas DataFrame output in response to a Pandas DataFrame input.\"\n",
      "WARNING:absl:Found untraced functions such as _update_step_xla while saving (showing 1 of 1). These functions will not be directly callable after loading.\n"
     ]
    },
    {
     "name": "stdout",
     "output_type": "stream",
     "text": [
      "INFO:tensorflow:Assets written to: /var/folders/4g/6c1htv314w9dcb25vhpxqfscjwsh63/T/tmp52ow1hnu/model/data/model/assets\n"
     ]
    },
    {
     "name": "stderr",
     "output_type": "stream",
     "text": [
      "INFO:tensorflow:Assets written to: /var/folders/4g/6c1htv314w9dcb25vhpxqfscjwsh63/T/tmp52ow1hnu/model/data/model/assets\n"
     ]
    }
   ],
   "source": [
    "experiment_id = mlflow.create_experiment(\n",
    "    'pipeline-experiments-batch_size', #type: ignore\n",
    "    artifact_location=Path.cwd().joinpath('../artifacts').as_uri(),\n",
    "    tags={'version': 'v1', 'priority': 'P1'},\n",
    ")\n",
    "experiment = mlflow.get_experiment(experiment_id)\n",
    "print(f'Name: {experiment.name}')\n",
    "print(f'Experiment_id: {experiment.experiment_id}')\n",
    "print(f'Artifact Location: {experiment.artifact_location}')\n",
    "print(f'Tags: {experiment.tags}')\n",
    "print(f'Lifecycle_stage: {experiment.lifecycle_stage}')\n",
    "print(f'Creation timestamp: {experiment.creation_time}')\n",
    "\n",
    "BATCH_SIZES = [32, 64, 128, 256, 512]\n",
    "SPLIT_SIZE = 0.8\n",
    "RESCALE = None\n",
    "ROTATION = None\n",
    "TRANSLATION = None\n",
    "BRIGHTEN = None\n",
    "EPOCHS = 10\n",
    "\n",
    "\n",
    "for BATCH_SIZE in BATCH_SIZES:\n",
    "    with mlflow.start_run(\n",
    "        run_name=f'run_batch_size_{str(BATCH_SIZE).zfill(3)}',\n",
    "        experiment_id=experiment_id\n",
    "        ):\n",
    "        mlflow.log_param('SPLIT_SIZE', SPLIT_SIZE)\n",
    "        mlflow.log_param(\"BATCH_SIZE\", BATCH_SIZE)\n",
    "        mlflow.log_param('RESCALE', RESCALE)\n",
    "        mlflow.log_param('ROTATION', ROTATION)\n",
    "        mlflow.log_param('TRANSLATION', TRANSLATION)\n",
    "        mlflow.log_param('BRIGHTEN', BRIGHTEN)\n",
    "        mlflow.log_param('EPOCHS', EPOCHS)\n",
    "\n",
    "\n",
    "        train_ds, val_ds = tf.keras.utils.split_dataset(\n",
    "            data_loader.load_training_data(),\n",
    "            left_size = SPLIT_SIZE,\n",
    "            shuffle=True\n",
    "        )\n",
    "\n",
    "        train_ds = prepare(\n",
    "            train_ds,\n",
    "            rescale=RESCALE,\n",
    "            batch_size=BATCH_SIZE,\n",
    "            rotation=ROTATION,\n",
    "            translation=TRANSLATION,\n",
    "            brightness=BRIGHTEN\n",
    "        )\n",
    "\n",
    "        val_ds = prepare(\n",
    "            val_ds,\n",
    "            rescale=RESCALE,\n",
    "            batch_size=BATCH_SIZE,\n",
    "            rotation=ROTATION,\n",
    "            translation=TRANSLATION,\n",
    "            brightness=BRIGHTEN\n",
    "        )\n",
    "        \n",
    "        model = tf.keras.Sequential([\n",
    "            tf.keras.layers.Flatten(input_shape=(28, 28, 1)),\n",
    "            tf.keras.layers.Dense(128, activation='relu'),\n",
    "            tf.keras.layers.Dense(10)\n",
    "            ])  \n",
    "        model.compile(\n",
    "            optimizer=tf.keras.optimizers.Adam(0.001),\n",
    "            loss=tf.keras.losses.SparseCategoricalCrossentropy(from_logits=True),\n",
    "            metrics=['sparse_categorical_accuracy'])\n",
    "        history = model.fit(train_ds, epochs=EPOCHS, validation_data=val_ds)\n"
   ]
  },
  {
   "cell_type": "markdown",
   "metadata": {},
   "source": [
    "## Experiment Rescaling images"
   ]
  },
  {
   "cell_type": "code",
   "execution_count": 9,
   "metadata": {},
   "outputs": [
    {
     "name": "stdout",
     "output_type": "stream",
     "text": [
      "Name: pipeline-experiments-rescale_size\n",
      "Experiment_id: 3\n",
      "Artifact Location: file:///Users/b7064522/Documents/DataScience/kaggle-digit-recognizer/notebooks/../artifacts\n",
      "Tags: {'version': 'v1', 'priority': 'P1'}\n",
      "Lifecycle_stage: active\n",
      "Creation timestamp: 1669994899543\n",
      "Epoch 1/10\n",
      "  1/263 [..............................] - ETA: 8:53 - loss: 144.6487 - sparse_categorical_accuracy: 0.1250WARNING:tensorflow:Callback method `on_train_batch_end` is slow compared to the batch time (batch time: 0.0053s vs `on_train_batch_end` time: 0.0460s). Check your callbacks.\n"
     ]
    },
    {
     "name": "stderr",
     "output_type": "stream",
     "text": [
      "WARNING:tensorflow:Callback method `on_train_batch_end` is slow compared to the batch time (batch time: 0.0053s vs `on_train_batch_end` time: 0.0460s). Check your callbacks.\n"
     ]
    },
    {
     "name": "stdout",
     "output_type": "stream",
     "text": [
      "263/263 [==============================] - 5s 10ms/step - loss: 7.0660 - sparse_categorical_accuracy: 0.8351 - val_loss: 1.6385 - val_sparse_categorical_accuracy: 0.9030\n",
      "Epoch 2/10\n",
      "263/263 [==============================] - 2s 6ms/step - loss: 1.0925 - sparse_categorical_accuracy: 0.9085 - val_loss: 1.0314 - val_sparse_categorical_accuracy: 0.9019\n",
      "Epoch 3/10\n",
      "263/263 [==============================] - 1s 5ms/step - loss: 0.5351 - sparse_categorical_accuracy: 0.9305 - val_loss: 0.7939 - val_sparse_categorical_accuracy: 0.9126\n",
      "Epoch 4/10\n",
      "263/263 [==============================] - 1s 5ms/step - loss: 0.3543 - sparse_categorical_accuracy: 0.9425 - val_loss: 0.7705 - val_sparse_categorical_accuracy: 0.9238\n",
      "Epoch 5/10\n",
      "263/263 [==============================] - 1s 4ms/step - loss: 0.2567 - sparse_categorical_accuracy: 0.9524 - val_loss: 0.7230 - val_sparse_categorical_accuracy: 0.9211\n",
      "Epoch 6/10\n",
      "263/263 [==============================] - 1s 4ms/step - loss: 0.2082 - sparse_categorical_accuracy: 0.9591 - val_loss: 0.6840 - val_sparse_categorical_accuracy: 0.9280\n",
      "Epoch 7/10\n",
      "263/263 [==============================] - 1s 4ms/step - loss: 0.1685 - sparse_categorical_accuracy: 0.9644 - val_loss: 0.6890 - val_sparse_categorical_accuracy: 0.9286\n",
      "Epoch 8/10\n",
      "263/263 [==============================] - 1s 5ms/step - loss: 0.1417 - sparse_categorical_accuracy: 0.9679 - val_loss: 0.6027 - val_sparse_categorical_accuracy: 0.9369\n",
      "Epoch 9/10\n",
      "263/263 [==============================] - 1s 5ms/step - loss: 0.1373 - sparse_categorical_accuracy: 0.9696 - val_loss: 0.6599 - val_sparse_categorical_accuracy: 0.9369\n",
      "Epoch 10/10\n",
      "263/263 [==============================] - 1s 5ms/step - loss: 0.1310 - sparse_categorical_accuracy: 0.9722 - val_loss: 0.5482 - val_sparse_categorical_accuracy: 0.9431\n",
      "1/1 [==============================] - 0s 128ms/step\n"
     ]
    },
    {
     "name": "stderr",
     "output_type": "stream",
     "text": [
      "2022/12/02 15:28:51 WARNING mlflow.utils.autologging_utils: MLflow autologging encountered a warning: \"/Users/b7064522/opt/miniconda3/envs/kdrenv/lib/python3.10/site-packages/mlflow/tensorflow/__init__.py:189: UserWarning: The pyfunc inference behavior of Keras models logged with signatures differs from the behavior of Keras models logged without signatures. Specifically, when a signature is present, passing a Pandas DataFrame as input to the pyfunc `predict()` API produces an `ndarray` (for single-output models) or a dictionary of `str -> ndarray`: (for multi-output models). In contrast, when a signature is *not* present, `predict()` produces a Pandas DataFrame output in response to a Pandas DataFrame input.\"\n",
      "WARNING:absl:Found untraced functions such as _update_step_xla while saving (showing 1 of 1). These functions will not be directly callable after loading.\n"
     ]
    },
    {
     "name": "stdout",
     "output_type": "stream",
     "text": [
      "INFO:tensorflow:Assets written to: /var/folders/4g/6c1htv314w9dcb25vhpxqfscjwsh63/T/tmp0739j1jo/model/data/model/assets\n"
     ]
    },
    {
     "name": "stderr",
     "output_type": "stream",
     "text": [
      "INFO:tensorflow:Assets written to: /var/folders/4g/6c1htv314w9dcb25vhpxqfscjwsh63/T/tmp0739j1jo/model/data/model/assets\n"
     ]
    },
    {
     "name": "stdout",
     "output_type": "stream",
     "text": [
      "WARNING:tensorflow:From /Users/b7064522/opt/miniconda3/envs/kdrenv/lib/python3.10/site-packages/tensorflow/python/autograph/pyct/static_analysis/liveness.py:83: Analyzer.lamba_check (from tensorflow.python.autograph.pyct.static_analysis.liveness) is deprecated and will be removed after 2023-09-23.\n",
      "Instructions for updating:\n",
      "Lambda fuctions will be no more assumed to be used in the statement where they are used, or at least in the same block. https://github.com/tensorflow/tensorflow/issues/56089\n"
     ]
    },
    {
     "name": "stderr",
     "output_type": "stream",
     "text": [
      "WARNING:tensorflow:From /Users/b7064522/opt/miniconda3/envs/kdrenv/lib/python3.10/site-packages/tensorflow/python/autograph/pyct/static_analysis/liveness.py:83: Analyzer.lamba_check (from tensorflow.python.autograph.pyct.static_analysis.liveness) is deprecated and will be removed after 2023-09-23.\n",
      "Instructions for updating:\n",
      "Lambda fuctions will be no more assumed to be used in the statement where they are used, or at least in the same block. https://github.com/tensorflow/tensorflow/issues/56089\n"
     ]
    },
    {
     "name": "stdout",
     "output_type": "stream",
     "text": [
      "Epoch 1/10\n",
      "  1/263 [..............................] - ETA: 8:42 - loss: 2.3549 - sparse_categorical_accuracy: 0.0938WARNING:tensorflow:Callback method `on_train_batch_end` is slow compared to the batch time (batch time: 0.0047s vs `on_train_batch_end` time: 0.0567s). Check your callbacks.\n"
     ]
    },
    {
     "name": "stderr",
     "output_type": "stream",
     "text": [
      "WARNING:tensorflow:Callback method `on_train_batch_end` is slow compared to the batch time (batch time: 0.0047s vs `on_train_batch_end` time: 0.0567s). Check your callbacks.\n"
     ]
    },
    {
     "name": "stdout",
     "output_type": "stream",
     "text": [
      "263/263 [==============================] - 5s 12ms/step - loss: 0.4517 - sparse_categorical_accuracy: 0.8785 - val_loss: 0.2482 - val_sparse_categorical_accuracy: 0.9332\n",
      "Epoch 2/10\n",
      "263/263 [==============================] - 3s 12ms/step - loss: 0.2021 - sparse_categorical_accuracy: 0.9419 - val_loss: 0.1866 - val_sparse_categorical_accuracy: 0.9485\n",
      "Epoch 3/10\n",
      "263/263 [==============================] - 3s 10ms/step - loss: 0.1475 - sparse_categorical_accuracy: 0.9576 - val_loss: 0.1571 - val_sparse_categorical_accuracy: 0.9557\n",
      "Epoch 4/10\n",
      "263/263 [==============================] - 3s 9ms/step - loss: 0.1153 - sparse_categorical_accuracy: 0.9673 - val_loss: 0.1399 - val_sparse_categorical_accuracy: 0.9606\n",
      "Epoch 5/10\n",
      "263/263 [==============================] - 2s 8ms/step - loss: 0.0933 - sparse_categorical_accuracy: 0.9742 - val_loss: 0.1289 - val_sparse_categorical_accuracy: 0.9638\n",
      "Epoch 6/10\n",
      "263/263 [==============================] - 2s 8ms/step - loss: 0.0769 - sparse_categorical_accuracy: 0.9791 - val_loss: 0.1207 - val_sparse_categorical_accuracy: 0.9648\n",
      "Epoch 7/10\n",
      "263/263 [==============================] - 2s 9ms/step - loss: 0.0642 - sparse_categorical_accuracy: 0.9830 - val_loss: 0.1152 - val_sparse_categorical_accuracy: 0.9661\n",
      "Epoch 8/10\n",
      "263/263 [==============================] - 2s 9ms/step - loss: 0.0542 - sparse_categorical_accuracy: 0.9862 - val_loss: 0.1106 - val_sparse_categorical_accuracy: 0.9671\n",
      "Epoch 9/10\n",
      "263/263 [==============================] - 2s 9ms/step - loss: 0.0458 - sparse_categorical_accuracy: 0.9889 - val_loss: 0.1083 - val_sparse_categorical_accuracy: 0.9682\n",
      "Epoch 10/10\n",
      "263/263 [==============================] - 2s 9ms/step - loss: 0.0389 - sparse_categorical_accuracy: 0.9910 - val_loss: 0.1065 - val_sparse_categorical_accuracy: 0.9683\n",
      "1/1 [==============================] - 0s 60ms/step\n"
     ]
    },
    {
     "name": "stderr",
     "output_type": "stream",
     "text": [
      "2022/12/02 15:29:52 WARNING mlflow.utils.autologging_utils: MLflow autologging encountered a warning: \"/Users/b7064522/opt/miniconda3/envs/kdrenv/lib/python3.10/site-packages/mlflow/tensorflow/__init__.py:189: UserWarning: The pyfunc inference behavior of Keras models logged with signatures differs from the behavior of Keras models logged without signatures. Specifically, when a signature is present, passing a Pandas DataFrame as input to the pyfunc `predict()` API produces an `ndarray` (for single-output models) or a dictionary of `str -> ndarray`: (for multi-output models). In contrast, when a signature is *not* present, `predict()` produces a Pandas DataFrame output in response to a Pandas DataFrame input.\"\n",
      "WARNING:absl:Found untraced functions such as _update_step_xla while saving (showing 1 of 1). These functions will not be directly callable after loading.\n"
     ]
    },
    {
     "name": "stdout",
     "output_type": "stream",
     "text": [
      "INFO:tensorflow:Assets written to: /var/folders/4g/6c1htv314w9dcb25vhpxqfscjwsh63/T/tmpibqbbhr4/model/data/model/assets\n"
     ]
    },
    {
     "name": "stderr",
     "output_type": "stream",
     "text": [
      "INFO:tensorflow:Assets written to: /var/folders/4g/6c1htv314w9dcb25vhpxqfscjwsh63/T/tmpibqbbhr4/model/data/model/assets\n"
     ]
    }
   ],
   "source": [
    "experiment_id = mlflow.create_experiment(\n",
    "    'pipeline-experiments-rescale_size', #type: ignore\n",
    "    artifact_location=Path.cwd().joinpath('../artifacts').as_uri(),\n",
    "    tags={'version': 'v1', 'priority': 'P1'},\n",
    ")\n",
    "experiment = mlflow.get_experiment(experiment_id)\n",
    "print(f'Name: {experiment.name}')\n",
    "print(f'Experiment_id: {experiment.experiment_id}')\n",
    "print(f'Artifact Location: {experiment.artifact_location}')\n",
    "print(f'Tags: {experiment.tags}')\n",
    "print(f'Lifecycle_stage: {experiment.lifecycle_stage}')\n",
    "print(f'Creation timestamp: {experiment.creation_time}')\n",
    "\n",
    "BATCH_SIZE = 128\n",
    "SPLIT_SIZE = 0.8\n",
    "RESCALES = [None, 1./255.]\n",
    "ROTATION = None\n",
    "TRANSLATION = None\n",
    "BRIGHTEN = None\n",
    "EPOCHS = 10\n",
    "\n",
    "\n",
    "for RESCALE in RESCALES:\n",
    "    with mlflow.start_run(\n",
    "        run_name=f'run_rescale_{str(RESCALE)}',\n",
    "        experiment_id=experiment_id\n",
    "        ):\n",
    "        mlflow.log_param('SPLIT_SIZE', SPLIT_SIZE)\n",
    "        mlflow.log_param(\"BATCH_SIZE\", BATCH_SIZE)\n",
    "        mlflow.log_param('RESCALE', RESCALE)\n",
    "        mlflow.log_param('ROTATION', ROTATION)\n",
    "        mlflow.log_param('TRANSLATION', TRANSLATION)\n",
    "        mlflow.log_param('BRIGHTEN', BRIGHTEN)\n",
    "        mlflow.log_param('EPOCHS', EPOCHS)\n",
    "\n",
    "\n",
    "        train_ds, val_ds = tf.keras.utils.split_dataset(\n",
    "            data_loader.load_training_data(),\n",
    "            left_size = SPLIT_SIZE,\n",
    "            shuffle=True\n",
    "        )\n",
    "\n",
    "        train_ds = prepare(\n",
    "            train_ds,\n",
    "            rescale=RESCALE,\n",
    "            batch_size=BATCH_SIZE,\n",
    "            rotation=ROTATION,\n",
    "            translation=TRANSLATION,\n",
    "            brightness=BRIGHTEN\n",
    "        )\n",
    "\n",
    "        val_ds = prepare(\n",
    "            val_ds,\n",
    "            rescale=RESCALE,\n",
    "            batch_size=BATCH_SIZE,\n",
    "            rotation=ROTATION,\n",
    "            translation=TRANSLATION,\n",
    "            brightness=BRIGHTEN\n",
    "        )\n",
    "        \n",
    "        model = tf.keras.Sequential([\n",
    "            tf.keras.layers.Flatten(input_shape=(28, 28, 1)),\n",
    "            tf.keras.layers.Dense(128, activation='relu'),\n",
    "            tf.keras.layers.Dense(10)\n",
    "            ])  \n",
    "        model.compile(\n",
    "            optimizer=tf.keras.optimizers.Adam(0.001),\n",
    "            loss=tf.keras.losses.SparseCategoricalCrossentropy(from_logits=True),\n",
    "            metrics=['sparse_categorical_accuracy'])\n",
    "        history = model.fit(train_ds, epochs=EPOCHS, validation_data=val_ds)\n"
   ]
  },
  {
   "cell_type": "markdown",
   "metadata": {},
   "source": [
    "## Experiment - add random rotation to the training set."
   ]
  },
  {
   "cell_type": "code",
   "execution_count": 10,
   "metadata": {},
   "outputs": [
    {
     "name": "stdout",
     "output_type": "stream",
     "text": [
      "Name: pipeline-experiments-rotation\n",
      "Experiment_id: 4\n",
      "Artifact Location: file:///Users/b7064522/Documents/DataScience/kaggle-digit-recognizer/notebooks/../artifacts\n",
      "Tags: {'version': 'v1', 'priority': 'P1'}\n",
      "Lifecycle_stage: active\n",
      "Creation timestamp: 1669995314046\n",
      "Epoch 1/10\n",
      "  5/263 [..............................] - ETA: 3s - loss: 2.1469 - sparse_categorical_accuracy: 0.2250  WARNING:tensorflow:Callback method `on_train_batch_end` is slow compared to the batch time (batch time: 0.0128s vs `on_train_batch_end` time: 0.0350s). Check your callbacks.\n"
     ]
    },
    {
     "name": "stderr",
     "output_type": "stream",
     "text": [
      "WARNING:tensorflow:Callback method `on_train_batch_end` is slow compared to the batch time (batch time: 0.0128s vs `on_train_batch_end` time: 0.0350s). Check your callbacks.\n"
     ]
    },
    {
     "name": "stdout",
     "output_type": "stream",
     "text": [
      "263/263 [==============================] - 7s 19ms/step - loss: 0.5281 - sparse_categorical_accuracy: 0.8542 - val_loss: 0.2659 - val_sparse_categorical_accuracy: 0.9256\n",
      "Epoch 2/10\n",
      "263/263 [==============================] - 5s 18ms/step - loss: 0.2693 - sparse_categorical_accuracy: 0.9224 - val_loss: 0.1956 - val_sparse_categorical_accuracy: 0.9426\n",
      "Epoch 3/10\n",
      "263/263 [==============================] - 4s 13ms/step - loss: 0.2073 - sparse_categorical_accuracy: 0.9409 - val_loss: 0.1649 - val_sparse_categorical_accuracy: 0.9502\n",
      "Epoch 4/10\n",
      "263/263 [==============================] - 3s 11ms/step - loss: 0.1697 - sparse_categorical_accuracy: 0.9499 - val_loss: 0.1429 - val_sparse_categorical_accuracy: 0.9577\n",
      "Epoch 5/10\n",
      "263/263 [==============================] - 4s 17ms/step - loss: 0.1470 - sparse_categorical_accuracy: 0.9574 - val_loss: 0.1285 - val_sparse_categorical_accuracy: 0.9638\n",
      "Epoch 6/10\n",
      "263/263 [==============================] - 4s 16ms/step - loss: 0.1323 - sparse_categorical_accuracy: 0.9621 - val_loss: 0.1196 - val_sparse_categorical_accuracy: 0.9650\n",
      "Epoch 7/10\n",
      "263/263 [==============================] - 3s 12ms/step - loss: 0.1175 - sparse_categorical_accuracy: 0.9649 - val_loss: 0.1089 - val_sparse_categorical_accuracy: 0.9674\n",
      "Epoch 8/10\n",
      "263/263 [==============================] - 3s 12ms/step - loss: 0.1057 - sparse_categorical_accuracy: 0.9689 - val_loss: 0.1022 - val_sparse_categorical_accuracy: 0.9707\n",
      "Epoch 9/10\n",
      "263/263 [==============================] - 3s 12ms/step - loss: 0.1021 - sparse_categorical_accuracy: 0.9694 - val_loss: 0.0970 - val_sparse_categorical_accuracy: 0.9718\n",
      "Epoch 10/10\n",
      "263/263 [==============================] - 3s 12ms/step - loss: 0.0924 - sparse_categorical_accuracy: 0.9715 - val_loss: 0.0953 - val_sparse_categorical_accuracy: 0.9719\n",
      "1/1 [==============================] - 0s 73ms/step\n"
     ]
    },
    {
     "name": "stderr",
     "output_type": "stream",
     "text": [
      "2022/12/02 15:36:07 WARNING mlflow.utils.autologging_utils: MLflow autologging encountered a warning: \"/Users/b7064522/opt/miniconda3/envs/kdrenv/lib/python3.10/site-packages/mlflow/tensorflow/__init__.py:189: UserWarning: The pyfunc inference behavior of Keras models logged with signatures differs from the behavior of Keras models logged without signatures. Specifically, when a signature is present, passing a Pandas DataFrame as input to the pyfunc `predict()` API produces an `ndarray` (for single-output models) or a dictionary of `str -> ndarray`: (for multi-output models). In contrast, when a signature is *not* present, `predict()` produces a Pandas DataFrame output in response to a Pandas DataFrame input.\"\n",
      "WARNING:absl:Found untraced functions such as _update_step_xla while saving (showing 1 of 1). These functions will not be directly callable after loading.\n"
     ]
    },
    {
     "name": "stdout",
     "output_type": "stream",
     "text": [
      "INFO:tensorflow:Assets written to: /var/folders/4g/6c1htv314w9dcb25vhpxqfscjwsh63/T/tmp76156n6b/model/data/model/assets\n"
     ]
    },
    {
     "name": "stderr",
     "output_type": "stream",
     "text": [
      "INFO:tensorflow:Assets written to: /var/folders/4g/6c1htv314w9dcb25vhpxqfscjwsh63/T/tmp76156n6b/model/data/model/assets\n"
     ]
    },
    {
     "name": "stdout",
     "output_type": "stream",
     "text": [
      "Epoch 1/10\n",
      "  6/263 [..............................] - ETA: 2s - loss: 2.1336 - sparse_categorical_accuracy: 0.2826  WARNING:tensorflow:Callback method `on_train_batch_end` is slow compared to the batch time (batch time: 0.0094s vs `on_train_batch_end` time: 0.0452s). Check your callbacks.\n"
     ]
    },
    {
     "name": "stderr",
     "output_type": "stream",
     "text": [
      "WARNING:tensorflow:Callback method `on_train_batch_end` is slow compared to the batch time (batch time: 0.0094s vs `on_train_batch_end` time: 0.0452s). Check your callbacks.\n"
     ]
    },
    {
     "name": "stdout",
     "output_type": "stream",
     "text": [
      "263/263 [==============================] - 7s 19ms/step - loss: 0.6409 - sparse_categorical_accuracy: 0.8175 - val_loss: 0.3266 - val_sparse_categorical_accuracy: 0.9054\n",
      "Epoch 2/10\n",
      "263/263 [==============================] - 5s 18ms/step - loss: 0.3367 - sparse_categorical_accuracy: 0.9038 - val_loss: 0.2474 - val_sparse_categorical_accuracy: 0.9276\n",
      "Epoch 3/10\n",
      "263/263 [==============================] - 4s 16ms/step - loss: 0.2607 - sparse_categorical_accuracy: 0.9247 - val_loss: 0.2071 - val_sparse_categorical_accuracy: 0.9369\n",
      "Epoch 4/10\n",
      "263/263 [==============================] - 3s 12ms/step - loss: 0.2197 - sparse_categorical_accuracy: 0.9365 - val_loss: 0.1844 - val_sparse_categorical_accuracy: 0.9449\n",
      "Epoch 5/10\n",
      "263/263 [==============================] - 4s 17ms/step - loss: 0.1898 - sparse_categorical_accuracy: 0.9440 - val_loss: 0.1603 - val_sparse_categorical_accuracy: 0.9525\n",
      "Epoch 6/10\n",
      "263/263 [==============================] - 4s 14ms/step - loss: 0.1737 - sparse_categorical_accuracy: 0.9487 - val_loss: 0.1501 - val_sparse_categorical_accuracy: 0.9577\n",
      "Epoch 7/10\n",
      "263/263 [==============================] - 3s 11ms/step - loss: 0.1567 - sparse_categorical_accuracy: 0.9528 - val_loss: 0.1470 - val_sparse_categorical_accuracy: 0.9561\n",
      "Epoch 8/10\n",
      "263/263 [==============================] - 3s 11ms/step - loss: 0.1435 - sparse_categorical_accuracy: 0.9569 - val_loss: 0.1359 - val_sparse_categorical_accuracy: 0.9601\n",
      "Epoch 9/10\n",
      "263/263 [==============================] - 3s 11ms/step - loss: 0.1363 - sparse_categorical_accuracy: 0.9585 - val_loss: 0.1344 - val_sparse_categorical_accuracy: 0.9606\n",
      "Epoch 10/10\n",
      "263/263 [==============================] - 3s 12ms/step - loss: 0.1296 - sparse_categorical_accuracy: 0.9614 - val_loss: 0.1271 - val_sparse_categorical_accuracy: 0.9637\n",
      "1/1 [==============================] - 0s 52ms/step\n"
     ]
    },
    {
     "name": "stderr",
     "output_type": "stream",
     "text": [
      "2022/12/02 15:37:11 WARNING mlflow.utils.autologging_utils: MLflow autologging encountered a warning: \"/Users/b7064522/opt/miniconda3/envs/kdrenv/lib/python3.10/site-packages/mlflow/tensorflow/__init__.py:189: UserWarning: The pyfunc inference behavior of Keras models logged with signatures differs from the behavior of Keras models logged without signatures. Specifically, when a signature is present, passing a Pandas DataFrame as input to the pyfunc `predict()` API produces an `ndarray` (for single-output models) or a dictionary of `str -> ndarray`: (for multi-output models). In contrast, when a signature is *not* present, `predict()` produces a Pandas DataFrame output in response to a Pandas DataFrame input.\"\n",
      "WARNING:absl:Found untraced functions such as _update_step_xla while saving (showing 1 of 1). These functions will not be directly callable after loading.\n"
     ]
    },
    {
     "name": "stdout",
     "output_type": "stream",
     "text": [
      "INFO:tensorflow:Assets written to: /var/folders/4g/6c1htv314w9dcb25vhpxqfscjwsh63/T/tmpfx_fxkqi/model/data/model/assets\n"
     ]
    },
    {
     "name": "stderr",
     "output_type": "stream",
     "text": [
      "INFO:tensorflow:Assets written to: /var/folders/4g/6c1htv314w9dcb25vhpxqfscjwsh63/T/tmpfx_fxkqi/model/data/model/assets\n"
     ]
    },
    {
     "name": "stdout",
     "output_type": "stream",
     "text": [
      "Epoch 1/10\n",
      "  3/263 [..............................] - ETA: 26s - loss: 2.2712 - sparse_categorical_accuracy: 0.1536WARNING:tensorflow:Callback method `on_train_batch_end` is slow compared to the batch time (batch time: 0.0388s vs `on_train_batch_end` time: 0.1598s). Check your callbacks.\n"
     ]
    },
    {
     "name": "stderr",
     "output_type": "stream",
     "text": [
      "WARNING:tensorflow:Callback method `on_train_batch_end` is slow compared to the batch time (batch time: 0.0388s vs `on_train_batch_end` time: 0.1598s). Check your callbacks.\n"
     ]
    },
    {
     "name": "stdout",
     "output_type": "stream",
     "text": [
      "263/263 [==============================] - 7s 19ms/step - loss: 0.7569 - sparse_categorical_accuracy: 0.7773 - val_loss: 0.3971 - val_sparse_categorical_accuracy: 0.8775\n",
      "Epoch 2/10\n",
      "263/263 [==============================] - 4s 16ms/step - loss: 0.4088 - sparse_categorical_accuracy: 0.8810 - val_loss: 0.3044 - val_sparse_categorical_accuracy: 0.9093\n",
      "Epoch 3/10\n",
      "263/263 [==============================] - 3s 11ms/step - loss: 0.3205 - sparse_categorical_accuracy: 0.9057 - val_loss: 0.2587 - val_sparse_categorical_accuracy: 0.9220\n",
      "Epoch 4/10\n",
      "263/263 [==============================] - 3s 11ms/step - loss: 0.2734 - sparse_categorical_accuracy: 0.9207 - val_loss: 0.2291 - val_sparse_categorical_accuracy: 0.9308\n",
      "Epoch 5/10\n",
      "263/263 [==============================] - 3s 12ms/step - loss: 0.2429 - sparse_categorical_accuracy: 0.9276 - val_loss: 0.2026 - val_sparse_categorical_accuracy: 0.9405\n",
      "Epoch 6/10\n",
      "263/263 [==============================] - 3s 11ms/step - loss: 0.2248 - sparse_categorical_accuracy: 0.9321 - val_loss: 0.1823 - val_sparse_categorical_accuracy: 0.9451\n",
      "Epoch 7/10\n",
      "263/263 [==============================] - 3s 12ms/step - loss: 0.2054 - sparse_categorical_accuracy: 0.9390 - val_loss: 0.1667 - val_sparse_categorical_accuracy: 0.9504\n",
      "Epoch 8/10\n",
      "263/263 [==============================] - 3s 11ms/step - loss: 0.1890 - sparse_categorical_accuracy: 0.9427 - val_loss: 0.1635 - val_sparse_categorical_accuracy: 0.9499\n",
      "Epoch 9/10\n",
      "263/263 [==============================] - 3s 11ms/step - loss: 0.1817 - sparse_categorical_accuracy: 0.9460 - val_loss: 0.1594 - val_sparse_categorical_accuracy: 0.9515\n",
      "Epoch 10/10\n",
      "263/263 [==============================] - 3s 12ms/step - loss: 0.1701 - sparse_categorical_accuracy: 0.9485 - val_loss: 0.1545 - val_sparse_categorical_accuracy: 0.9510\n",
      "1/1 [==============================] - 0s 51ms/step\n"
     ]
    },
    {
     "name": "stderr",
     "output_type": "stream",
     "text": [
      "2022/12/02 15:38:13 WARNING mlflow.utils.autologging_utils: MLflow autologging encountered a warning: \"/Users/b7064522/opt/miniconda3/envs/kdrenv/lib/python3.10/site-packages/mlflow/tensorflow/__init__.py:189: UserWarning: The pyfunc inference behavior of Keras models logged with signatures differs from the behavior of Keras models logged without signatures. Specifically, when a signature is present, passing a Pandas DataFrame as input to the pyfunc `predict()` API produces an `ndarray` (for single-output models) or a dictionary of `str -> ndarray`: (for multi-output models). In contrast, when a signature is *not* present, `predict()` produces a Pandas DataFrame output in response to a Pandas DataFrame input.\"\n",
      "WARNING:absl:Found untraced functions such as _update_step_xla while saving (showing 1 of 1). These functions will not be directly callable after loading.\n"
     ]
    },
    {
     "name": "stdout",
     "output_type": "stream",
     "text": [
      "INFO:tensorflow:Assets written to: /var/folders/4g/6c1htv314w9dcb25vhpxqfscjwsh63/T/tmp3picwefw/model/data/model/assets\n"
     ]
    },
    {
     "name": "stderr",
     "output_type": "stream",
     "text": [
      "INFO:tensorflow:Assets written to: /var/folders/4g/6c1htv314w9dcb25vhpxqfscjwsh63/T/tmp3picwefw/model/data/model/assets\n"
     ]
    },
    {
     "name": "stdout",
     "output_type": "stream",
     "text": [
      "Epoch 1/10\n",
      "  4/263 [..............................] - ETA: 5s - loss: 2.2285 - sparse_categorical_accuracy: 0.2090  WARNING:tensorflow:Callback method `on_train_batch_end` is slow compared to the batch time (batch time: 0.0184s vs `on_train_batch_end` time: 0.0522s). Check your callbacks.\n"
     ]
    },
    {
     "name": "stderr",
     "output_type": "stream",
     "text": [
      "WARNING:tensorflow:Callback method `on_train_batch_end` is slow compared to the batch time (batch time: 0.0184s vs `on_train_batch_end` time: 0.0522s). Check your callbacks.\n"
     ]
    },
    {
     "name": "stdout",
     "output_type": "stream",
     "text": [
      "263/263 [==============================] - 7s 20ms/step - loss: 0.8609 - sparse_categorical_accuracy: 0.7433 - val_loss: 0.4926 - val_sparse_categorical_accuracy: 0.8543\n",
      "Epoch 2/10\n",
      "263/263 [==============================] - 3s 12ms/step - loss: 0.4741 - sparse_categorical_accuracy: 0.8628 - val_loss: 0.3768 - val_sparse_categorical_accuracy: 0.8894\n",
      "Epoch 3/10\n",
      "263/263 [==============================] - 4s 16ms/step - loss: 0.3802 - sparse_categorical_accuracy: 0.8902 - val_loss: 0.3259 - val_sparse_categorical_accuracy: 0.9046\n",
      "Epoch 4/10\n",
      "263/263 [==============================] - 4s 16ms/step - loss: 0.3307 - sparse_categorical_accuracy: 0.9039 - val_loss: 0.2876 - val_sparse_categorical_accuracy: 0.9170\n",
      "Epoch 5/10\n",
      "263/263 [==============================] - 4s 16ms/step - loss: 0.2952 - sparse_categorical_accuracy: 0.9131 - val_loss: 0.2527 - val_sparse_categorical_accuracy: 0.9235\n",
      "Epoch 6/10\n",
      "263/263 [==============================] - 3s 11ms/step - loss: 0.2729 - sparse_categorical_accuracy: 0.9193 - val_loss: 0.2445 - val_sparse_categorical_accuracy: 0.9260\n",
      "Epoch 7/10\n",
      "263/263 [==============================] - 3s 12ms/step - loss: 0.2550 - sparse_categorical_accuracy: 0.9244 - val_loss: 0.2297 - val_sparse_categorical_accuracy: 0.9317\n",
      "Epoch 8/10\n",
      "263/263 [==============================] - 3s 12ms/step - loss: 0.2340 - sparse_categorical_accuracy: 0.9321 - val_loss: 0.2103 - val_sparse_categorical_accuracy: 0.9363\n",
      "Epoch 9/10\n",
      "263/263 [==============================] - 3s 11ms/step - loss: 0.2256 - sparse_categorical_accuracy: 0.9327 - val_loss: 0.2182 - val_sparse_categorical_accuracy: 0.9355\n",
      "Epoch 10/10\n",
      "263/263 [==============================] - 3s 12ms/step - loss: 0.2139 - sparse_categorical_accuracy: 0.9346 - val_loss: 0.1951 - val_sparse_categorical_accuracy: 0.9423\n",
      "1/1 [==============================] - 0s 53ms/step\n"
     ]
    },
    {
     "name": "stderr",
     "output_type": "stream",
     "text": [
      "2022/12/02 15:39:20 WARNING mlflow.utils.autologging_utils: MLflow autologging encountered a warning: \"/Users/b7064522/opt/miniconda3/envs/kdrenv/lib/python3.10/site-packages/mlflow/tensorflow/__init__.py:189: UserWarning: The pyfunc inference behavior of Keras models logged with signatures differs from the behavior of Keras models logged without signatures. Specifically, when a signature is present, passing a Pandas DataFrame as input to the pyfunc `predict()` API produces an `ndarray` (for single-output models) or a dictionary of `str -> ndarray`: (for multi-output models). In contrast, when a signature is *not* present, `predict()` produces a Pandas DataFrame output in response to a Pandas DataFrame input.\"\n",
      "WARNING:absl:Found untraced functions such as _update_step_xla while saving (showing 1 of 1). These functions will not be directly callable after loading.\n"
     ]
    },
    {
     "name": "stdout",
     "output_type": "stream",
     "text": [
      "INFO:tensorflow:Assets written to: /var/folders/4g/6c1htv314w9dcb25vhpxqfscjwsh63/T/tmpxr_cbrb8/model/data/model/assets\n"
     ]
    },
    {
     "name": "stderr",
     "output_type": "stream",
     "text": [
      "INFO:tensorflow:Assets written to: /var/folders/4g/6c1htv314w9dcb25vhpxqfscjwsh63/T/tmpxr_cbrb8/model/data/model/assets\n"
     ]
    },
    {
     "name": "stdout",
     "output_type": "stream",
     "text": [
      "Epoch 1/10\n",
      "  6/263 [..............................] - ETA: 3s - loss: 2.2483 - sparse_categorical_accuracy: 0.1589  WARNING:tensorflow:Callback method `on_train_batch_end` is slow compared to the batch time (batch time: 0.0115s vs `on_train_batch_end` time: 0.1317s). Check your callbacks.\n"
     ]
    },
    {
     "name": "stderr",
     "output_type": "stream",
     "text": [
      "WARNING:tensorflow:Callback method `on_train_batch_end` is slow compared to the batch time (batch time: 0.0115s vs `on_train_batch_end` time: 0.1317s). Check your callbacks.\n"
     ]
    },
    {
     "name": "stdout",
     "output_type": "stream",
     "text": [
      "263/263 [==============================] - 7s 20ms/step - loss: 0.9627 - sparse_categorical_accuracy: 0.7088 - val_loss: 0.5646 - val_sparse_categorical_accuracy: 0.8430\n",
      "Epoch 2/10\n",
      "263/263 [==============================] - 4s 15ms/step - loss: 0.5511 - sparse_categorical_accuracy: 0.8403 - val_loss: 0.4028 - val_sparse_categorical_accuracy: 0.8902\n",
      "Epoch 3/10\n",
      "263/263 [==============================] - 3s 12ms/step - loss: 0.4390 - sparse_categorical_accuracy: 0.8707 - val_loss: 0.3706 - val_sparse_categorical_accuracy: 0.8900\n",
      "Epoch 4/10\n",
      "263/263 [==============================] - 4s 14ms/step - loss: 0.3811 - sparse_categorical_accuracy: 0.8870 - val_loss: 0.3311 - val_sparse_categorical_accuracy: 0.9033\n",
      "Epoch 5/10\n",
      "263/263 [==============================] - 4s 17ms/step - loss: 0.3474 - sparse_categorical_accuracy: 0.8962 - val_loss: 0.3011 - val_sparse_categorical_accuracy: 0.9107\n",
      "Epoch 6/10\n",
      "263/263 [==============================] - 4s 17ms/step - loss: 0.3182 - sparse_categorical_accuracy: 0.9031 - val_loss: 0.2866 - val_sparse_categorical_accuracy: 0.9151\n",
      "Epoch 7/10\n",
      "263/263 [==============================] - 4s 16ms/step - loss: 0.2957 - sparse_categorical_accuracy: 0.9120 - val_loss: 0.2751 - val_sparse_categorical_accuracy: 0.9179\n",
      "Epoch 8/10\n",
      "263/263 [==============================] - 3s 12ms/step - loss: 0.2774 - sparse_categorical_accuracy: 0.9150 - val_loss: 0.2493 - val_sparse_categorical_accuracy: 0.9245\n",
      "Epoch 9/10\n",
      "263/263 [==============================] - 3s 12ms/step - loss: 0.2654 - sparse_categorical_accuracy: 0.9212 - val_loss: 0.2358 - val_sparse_categorical_accuracy: 0.9313\n",
      "Epoch 10/10\n",
      "263/263 [==============================] - 3s 12ms/step - loss: 0.2499 - sparse_categorical_accuracy: 0.9243 - val_loss: 0.2369 - val_sparse_categorical_accuracy: 0.9293\n",
      "1/1 [==============================] - 0s 51ms/step\n"
     ]
    },
    {
     "name": "stderr",
     "output_type": "stream",
     "text": [
      "2022/12/02 15:40:26 WARNING mlflow.utils.autologging_utils: MLflow autologging encountered a warning: \"/Users/b7064522/opt/miniconda3/envs/kdrenv/lib/python3.10/site-packages/mlflow/tensorflow/__init__.py:189: UserWarning: The pyfunc inference behavior of Keras models logged with signatures differs from the behavior of Keras models logged without signatures. Specifically, when a signature is present, passing a Pandas DataFrame as input to the pyfunc `predict()` API produces an `ndarray` (for single-output models) or a dictionary of `str -> ndarray`: (for multi-output models). In contrast, when a signature is *not* present, `predict()` produces a Pandas DataFrame output in response to a Pandas DataFrame input.\"\n",
      "WARNING:absl:Found untraced functions such as _update_step_xla while saving (showing 1 of 1). These functions will not be directly callable after loading.\n"
     ]
    },
    {
     "name": "stdout",
     "output_type": "stream",
     "text": [
      "INFO:tensorflow:Assets written to: /var/folders/4g/6c1htv314w9dcb25vhpxqfscjwsh63/T/tmph36u5n89/model/data/model/assets\n"
     ]
    },
    {
     "name": "stderr",
     "output_type": "stream",
     "text": [
      "INFO:tensorflow:Assets written to: /var/folders/4g/6c1htv314w9dcb25vhpxqfscjwsh63/T/tmph36u5n89/model/data/model/assets\n"
     ]
    }
   ],
   "source": [
    "experiment_id = mlflow.create_experiment(\n",
    "    'pipeline-experiments-rotation', #type: ignore\n",
    "    artifact_location=Path.cwd().joinpath('../artifacts').as_uri(),\n",
    "    tags={'version': 'v1', 'priority': 'P1'},\n",
    ")\n",
    "experiment = mlflow.get_experiment(experiment_id)\n",
    "print(f'Name: {experiment.name}')\n",
    "print(f'Experiment_id: {experiment.experiment_id}')\n",
    "print(f'Artifact Location: {experiment.artifact_location}')\n",
    "print(f'Tags: {experiment.tags}')\n",
    "print(f'Lifecycle_stage: {experiment.lifecycle_stage}')\n",
    "print(f'Creation timestamp: {experiment.creation_time}')\n",
    "\n",
    "BATCH_SIZE = 128\n",
    "SPLIT_SIZE = 0.8\n",
    "RESCALE = 1./255\n",
    "ROTATIONS = [0.05, 0.1, 0.15, 0.2, 0.25]\n",
    "TRANSLATION = None\n",
    "BRIGHTEN = None\n",
    "EPOCHS = 10\n",
    "\n",
    "\n",
    "for ROTATION in ROTATIONS:\n",
    "    with mlflow.start_run(\n",
    "        run_name=f'run_rotation_{str(ROTATION)}',\n",
    "        experiment_id=experiment_id\n",
    "        ):\n",
    "        mlflow.log_param('SPLIT_SIZE', SPLIT_SIZE)\n",
    "        mlflow.log_param(\"BATCH_SIZE\", BATCH_SIZE)\n",
    "        mlflow.log_param('RESCALE', RESCALE)\n",
    "        mlflow.log_param('ROTATION', ROTATION)\n",
    "        mlflow.log_param('TRANSLATION', TRANSLATION)\n",
    "        mlflow.log_param('BRIGHTEN', BRIGHTEN)\n",
    "        mlflow.log_param('EPOCHS', EPOCHS)\n",
    "\n",
    "\n",
    "        train_ds, val_ds = tf.keras.utils.split_dataset(\n",
    "            data_loader.load_training_data(),\n",
    "            left_size = SPLIT_SIZE,\n",
    "            shuffle=True\n",
    "        )\n",
    "\n",
    "        train_ds = prepare(\n",
    "            train_ds,\n",
    "            rescale=RESCALE,\n",
    "            batch_size=BATCH_SIZE,\n",
    "            rotation=ROTATION,\n",
    "            translation=TRANSLATION,\n",
    "            brightness=BRIGHTEN\n",
    "        )\n",
    "\n",
    "        val_ds = prepare(\n",
    "            val_ds,\n",
    "            rescale=RESCALE,\n",
    "            batch_size=BATCH_SIZE,\n",
    "            rotation=None,\n",
    "            translation=None,\n",
    "            brightness=None\n",
    "        )\n",
    "        \n",
    "        model = tf.keras.Sequential([\n",
    "            tf.keras.layers.Flatten(input_shape=(28, 28, 1)),\n",
    "            tf.keras.layers.Dense(128, activation='relu'),\n",
    "            tf.keras.layers.Dense(10)\n",
    "            ])  \n",
    "        model.compile(\n",
    "            optimizer=tf.keras.optimizers.Adam(0.001),\n",
    "            loss=tf.keras.losses.SparseCategoricalCrossentropy(from_logits=True),\n",
    "            metrics=['sparse_categorical_accuracy'])\n",
    "        history = model.fit(train_ds, epochs=EPOCHS, validation_data=val_ds)\n"
   ]
  },
  {
   "cell_type": "markdown",
   "metadata": {},
   "source": [
    "## Experiment - random translations"
   ]
  },
  {
   "cell_type": "code",
   "execution_count": 14,
   "metadata": {},
   "outputs": [
    {
     "name": "stdout",
     "output_type": "stream",
     "text": [
      "Name: pipeline-experiments-translation-rerun\n",
      "Experiment_id: 6\n",
      "Artifact Location: file:///Users/b7064522/Documents/DataScience/kaggle-digit-recognizer/notebooks/../artifacts\n",
      "Tags: {'version': 'v1', 'priority': 'P1'}\n",
      "Lifecycle_stage: active\n",
      "Creation timestamp: 1669997123916\n",
      "Epoch 1/10\n",
      "  5/263 [..............................] - ETA: 7s - loss: 2.1449 - sparse_categorical_accuracy: 0.2641 WARNING:tensorflow:Callback method `on_train_batch_end` is slow compared to the batch time (batch time: 0.0240s vs `on_train_batch_end` time: 0.0339s). Check your callbacks.\n"
     ]
    },
    {
     "name": "stderr",
     "output_type": "stream",
     "text": [
      "WARNING:tensorflow:Callback method `on_train_batch_end` is slow compared to the batch time (batch time: 0.0240s vs `on_train_batch_end` time: 0.0339s). Check your callbacks.\n"
     ]
    },
    {
     "name": "stdout",
     "output_type": "stream",
     "text": [
      "263/263 [==============================] - 10s 33ms/step - loss: 0.5783 - sparse_categorical_accuracy: 0.8395 - val_loss: 0.2672 - val_sparse_categorical_accuracy: 0.9224\n",
      "Epoch 2/10\n",
      "263/263 [==============================] - 6s 24ms/step - loss: 0.3150 - sparse_categorical_accuracy: 0.9086 - val_loss: 0.1971 - val_sparse_categorical_accuracy: 0.9413\n",
      "Epoch 3/10\n",
      "263/263 [==============================] - 5s 20ms/step - loss: 0.2418 - sparse_categorical_accuracy: 0.9293 - val_loss: 0.1566 - val_sparse_categorical_accuracy: 0.9529\n",
      "Epoch 4/10\n",
      "263/263 [==============================] - 5s 21ms/step - loss: 0.2049 - sparse_categorical_accuracy: 0.9406 - val_loss: 0.1339 - val_sparse_categorical_accuracy: 0.9598\n",
      "Epoch 5/10\n",
      "263/263 [==============================] - 5s 20ms/step - loss: 0.1744 - sparse_categorical_accuracy: 0.9499 - val_loss: 0.1201 - val_sparse_categorical_accuracy: 0.9644\n",
      "Epoch 6/10\n",
      "263/263 [==============================] - 6s 21ms/step - loss: 0.1561 - sparse_categorical_accuracy: 0.9541 - val_loss: 0.1106 - val_sparse_categorical_accuracy: 0.9657\n",
      "Epoch 7/10\n",
      "263/263 [==============================] - 6s 21ms/step - loss: 0.1392 - sparse_categorical_accuracy: 0.9585 - val_loss: 0.1015 - val_sparse_categorical_accuracy: 0.9698\n",
      "Epoch 8/10\n",
      "263/263 [==============================] - 5s 20ms/step - loss: 0.1286 - sparse_categorical_accuracy: 0.9618 - val_loss: 0.0952 - val_sparse_categorical_accuracy: 0.9700\n",
      "Epoch 9/10\n",
      "263/263 [==============================] - 6s 21ms/step - loss: 0.1176 - sparse_categorical_accuracy: 0.9653 - val_loss: 0.0861 - val_sparse_categorical_accuracy: 0.9736\n",
      "Epoch 10/10\n",
      "263/263 [==============================] - 6s 21ms/step - loss: 0.1146 - sparse_categorical_accuracy: 0.9657 - val_loss: 0.0894 - val_sparse_categorical_accuracy: 0.9719\n",
      "1/1 [==============================] - 0s 56ms/step\n"
     ]
    },
    {
     "name": "stderr",
     "output_type": "stream",
     "text": [
      "2022/12/02 16:06:38 WARNING mlflow.utils.autologging_utils: MLflow autologging encountered a warning: \"/Users/b7064522/opt/miniconda3/envs/kdrenv/lib/python3.10/site-packages/mlflow/tensorflow/__init__.py:189: UserWarning: The pyfunc inference behavior of Keras models logged with signatures differs from the behavior of Keras models logged without signatures. Specifically, when a signature is present, passing a Pandas DataFrame as input to the pyfunc `predict()` API produces an `ndarray` (for single-output models) or a dictionary of `str -> ndarray`: (for multi-output models). In contrast, when a signature is *not* present, `predict()` produces a Pandas DataFrame output in response to a Pandas DataFrame input.\"\n",
      "WARNING:absl:Found untraced functions such as _update_step_xla while saving (showing 1 of 1). These functions will not be directly callable after loading.\n"
     ]
    },
    {
     "name": "stdout",
     "output_type": "stream",
     "text": [
      "INFO:tensorflow:Assets written to: /var/folders/4g/6c1htv314w9dcb25vhpxqfscjwsh63/T/tmp4eapmpce/model/data/model/assets\n"
     ]
    },
    {
     "name": "stderr",
     "output_type": "stream",
     "text": [
      "INFO:tensorflow:Assets written to: /var/folders/4g/6c1htv314w9dcb25vhpxqfscjwsh63/T/tmp4eapmpce/model/data/model/assets\n"
     ]
    },
    {
     "name": "stdout",
     "output_type": "stream",
     "text": [
      "Epoch 1/10\n",
      "  6/263 [..............................] - ETA: 5s - loss: 2.1935 - sparse_categorical_accuracy: 0.2370 WARNING:tensorflow:Callback method `on_train_batch_end` is slow compared to the batch time (batch time: 0.0193s vs `on_train_batch_end` time: 0.0327s). Check your callbacks.\n"
     ]
    },
    {
     "name": "stderr",
     "output_type": "stream",
     "text": [
      "WARNING:tensorflow:Callback method `on_train_batch_end` is slow compared to the batch time (batch time: 0.0193s vs `on_train_batch_end` time: 0.0327s). Check your callbacks.\n"
     ]
    },
    {
     "name": "stdout",
     "output_type": "stream",
     "text": [
      "263/263 [==============================] - 11s 36ms/step - loss: 0.7099 - sparse_categorical_accuracy: 0.7903 - val_loss: 0.3108 - val_sparse_categorical_accuracy: 0.9120\n",
      "Epoch 2/10\n",
      "263/263 [==============================] - 7s 27ms/step - loss: 0.3844 - sparse_categorical_accuracy: 0.8889 - val_loss: 0.2216 - val_sparse_categorical_accuracy: 0.9394\n",
      "Epoch 3/10\n",
      "263/263 [==============================] - 7s 27ms/step - loss: 0.2896 - sparse_categorical_accuracy: 0.9158 - val_loss: 0.1892 - val_sparse_categorical_accuracy: 0.9458\n",
      "Epoch 4/10\n",
      "263/263 [==============================] - 8s 30ms/step - loss: 0.2351 - sparse_categorical_accuracy: 0.9326 - val_loss: 0.1612 - val_sparse_categorical_accuracy: 0.9530\n",
      "Epoch 5/10\n",
      "263/263 [==============================] - 8s 29ms/step - loss: 0.2002 - sparse_categorical_accuracy: 0.9407 - val_loss: 0.1438 - val_sparse_categorical_accuracy: 0.9573\n",
      "Epoch 6/10\n",
      "263/263 [==============================] - 6s 21ms/step - loss: 0.1806 - sparse_categorical_accuracy: 0.9464 - val_loss: 0.1348 - val_sparse_categorical_accuracy: 0.9601\n",
      "Epoch 7/10\n",
      "263/263 [==============================] - 5s 20ms/step - loss: 0.1614 - sparse_categorical_accuracy: 0.9528 - val_loss: 0.1254 - val_sparse_categorical_accuracy: 0.9633\n",
      "Epoch 8/10\n",
      "263/263 [==============================] - 5s 21ms/step - loss: 0.1501 - sparse_categorical_accuracy: 0.9543 - val_loss: 0.1189 - val_sparse_categorical_accuracy: 0.9646\n",
      "Epoch 9/10\n",
      "263/263 [==============================] - 5s 20ms/step - loss: 0.1388 - sparse_categorical_accuracy: 0.9588 - val_loss: 0.1199 - val_sparse_categorical_accuracy: 0.9638\n",
      "Epoch 10/10\n",
      "263/263 [==============================] - 5s 21ms/step - loss: 0.1353 - sparse_categorical_accuracy: 0.9591 - val_loss: 0.1144 - val_sparse_categorical_accuracy: 0.9658\n",
      "1/1 [==============================] - 0s 52ms/step\n"
     ]
    },
    {
     "name": "stderr",
     "output_type": "stream",
     "text": [
      "2022/12/02 16:08:23 WARNING mlflow.utils.autologging_utils: MLflow autologging encountered a warning: \"/Users/b7064522/opt/miniconda3/envs/kdrenv/lib/python3.10/site-packages/mlflow/tensorflow/__init__.py:189: UserWarning: The pyfunc inference behavior of Keras models logged with signatures differs from the behavior of Keras models logged without signatures. Specifically, when a signature is present, passing a Pandas DataFrame as input to the pyfunc `predict()` API produces an `ndarray` (for single-output models) or a dictionary of `str -> ndarray`: (for multi-output models). In contrast, when a signature is *not* present, `predict()` produces a Pandas DataFrame output in response to a Pandas DataFrame input.\"\n",
      "WARNING:absl:Found untraced functions such as _update_step_xla while saving (showing 1 of 1). These functions will not be directly callable after loading.\n"
     ]
    },
    {
     "name": "stdout",
     "output_type": "stream",
     "text": [
      "INFO:tensorflow:Assets written to: /var/folders/4g/6c1htv314w9dcb25vhpxqfscjwsh63/T/tmp_vougly3/model/data/model/assets\n"
     ]
    },
    {
     "name": "stderr",
     "output_type": "stream",
     "text": [
      "INFO:tensorflow:Assets written to: /var/folders/4g/6c1htv314w9dcb25vhpxqfscjwsh63/T/tmp_vougly3/model/data/model/assets\n"
     ]
    },
    {
     "name": "stdout",
     "output_type": "stream",
     "text": [
      "Epoch 1/10\n",
      "  6/263 [..............................] - ETA: 8s - loss: 2.2230 - sparse_categorical_accuracy: 0.2057 WARNING:tensorflow:Callback method `on_train_batch_end` is slow compared to the batch time (batch time: 0.0280s vs `on_train_batch_end` time: 0.0667s). Check your callbacks.\n"
     ]
    },
    {
     "name": "stderr",
     "output_type": "stream",
     "text": [
      "WARNING:tensorflow:Callback method `on_train_batch_end` is slow compared to the batch time (batch time: 0.0280s vs `on_train_batch_end` time: 0.0667s). Check your callbacks.\n"
     ]
    },
    {
     "name": "stdout",
     "output_type": "stream",
     "text": [
      "263/263 [==============================] - 15s 49ms/step - loss: 0.9799 - sparse_categorical_accuracy: 0.7043 - val_loss: 0.4149 - val_sparse_categorical_accuracy: 0.8995\n",
      "Epoch 2/10\n",
      "263/263 [==============================] - 11s 42ms/step - loss: 0.4887 - sparse_categorical_accuracy: 0.8597 - val_loss: 0.2700 - val_sparse_categorical_accuracy: 0.9311\n",
      "Epoch 3/10\n",
      "263/263 [==============================] - 8s 30ms/step - loss: 0.3547 - sparse_categorical_accuracy: 0.8977 - val_loss: 0.2139 - val_sparse_categorical_accuracy: 0.9427\n",
      "Epoch 4/10\n",
      "263/263 [==============================] - 7s 28ms/step - loss: 0.2947 - sparse_categorical_accuracy: 0.9134 - val_loss: 0.1845 - val_sparse_categorical_accuracy: 0.9493\n",
      "Epoch 5/10\n",
      "263/263 [==============================] - 8s 31ms/step - loss: 0.2651 - sparse_categorical_accuracy: 0.9211 - val_loss: 0.1718 - val_sparse_categorical_accuracy: 0.9518\n",
      "Epoch 6/10\n",
      "263/263 [==============================] - 9s 32ms/step - loss: 0.2427 - sparse_categorical_accuracy: 0.9273 - val_loss: 0.1613 - val_sparse_categorical_accuracy: 0.9554\n",
      "Epoch 7/10\n",
      "263/263 [==============================] - 8s 29ms/step - loss: 0.2303 - sparse_categorical_accuracy: 0.9318 - val_loss: 0.1539 - val_sparse_categorical_accuracy: 0.9577\n",
      "Epoch 8/10\n",
      "263/263 [==============================] - 9s 34ms/step - loss: 0.2134 - sparse_categorical_accuracy: 0.9360 - val_loss: 0.1403 - val_sparse_categorical_accuracy: 0.9632\n",
      "Epoch 9/10\n",
      "263/263 [==============================] - 8s 31ms/step - loss: 0.2036 - sparse_categorical_accuracy: 0.9392 - val_loss: 0.1342 - val_sparse_categorical_accuracy: 0.9636\n",
      "Epoch 10/10\n",
      "263/263 [==============================] - 9s 33ms/step - loss: 0.1887 - sparse_categorical_accuracy: 0.9438 - val_loss: 0.1313 - val_sparse_categorical_accuracy: 0.9661\n",
      "1/1 [==============================] - 0s 66ms/step\n"
     ]
    },
    {
     "name": "stderr",
     "output_type": "stream",
     "text": [
      "2022/12/02 16:10:27 WARNING mlflow.utils.autologging_utils: MLflow autologging encountered a warning: \"/Users/b7064522/opt/miniconda3/envs/kdrenv/lib/python3.10/site-packages/mlflow/tensorflow/__init__.py:189: UserWarning: The pyfunc inference behavior of Keras models logged with signatures differs from the behavior of Keras models logged without signatures. Specifically, when a signature is present, passing a Pandas DataFrame as input to the pyfunc `predict()` API produces an `ndarray` (for single-output models) or a dictionary of `str -> ndarray`: (for multi-output models). In contrast, when a signature is *not* present, `predict()` produces a Pandas DataFrame output in response to a Pandas DataFrame input.\"\n",
      "WARNING:absl:Found untraced functions such as _update_step_xla while saving (showing 1 of 1). These functions will not be directly callable after loading.\n"
     ]
    },
    {
     "name": "stdout",
     "output_type": "stream",
     "text": [
      "INFO:tensorflow:Assets written to: /var/folders/4g/6c1htv314w9dcb25vhpxqfscjwsh63/T/tmpz0oda8ph/model/data/model/assets\n"
     ]
    },
    {
     "name": "stderr",
     "output_type": "stream",
     "text": [
      "INFO:tensorflow:Assets written to: /var/folders/4g/6c1htv314w9dcb25vhpxqfscjwsh63/T/tmpz0oda8ph/model/data/model/assets\n"
     ]
    },
    {
     "name": "stdout",
     "output_type": "stream",
     "text": [
      "Epoch 1/10\n",
      "  5/263 [..............................] - ETA: 8s - loss: 2.3047 - sparse_categorical_accuracy: 0.1297 WARNING:tensorflow:Callback method `on_train_batch_end` is slow compared to the batch time (batch time: 0.0157s vs `on_train_batch_end` time: 0.0745s). Check your callbacks.\n"
     ]
    },
    {
     "name": "stderr",
     "output_type": "stream",
     "text": [
      "WARNING:tensorflow:Callback method `on_train_batch_end` is slow compared to the batch time (batch time: 0.0157s vs `on_train_batch_end` time: 0.0745s). Check your callbacks.\n"
     ]
    },
    {
     "name": "stdout",
     "output_type": "stream",
     "text": [
      "263/263 [==============================] - 15s 47ms/step - loss: 1.3628 - sparse_categorical_accuracy: 0.5759 - val_loss: 0.7718 - val_sparse_categorical_accuracy: 0.7807\n",
      "Epoch 2/10\n",
      "263/263 [==============================] - 9s 34ms/step - loss: 0.7226 - sparse_categorical_accuracy: 0.7925 - val_loss: 0.4924 - val_sparse_categorical_accuracy: 0.8604\n",
      "Epoch 3/10\n",
      "263/263 [==============================] - 7s 25ms/step - loss: 0.5534 - sparse_categorical_accuracy: 0.8387 - val_loss: 0.4021 - val_sparse_categorical_accuracy: 0.8829\n",
      "Epoch 4/10\n",
      "263/263 [==============================] - 9s 33ms/step - loss: 0.4702 - sparse_categorical_accuracy: 0.8617 - val_loss: 0.3487 - val_sparse_categorical_accuracy: 0.8961\n",
      "Epoch 5/10\n",
      "263/263 [==============================] - 8s 29ms/step - loss: 0.4280 - sparse_categorical_accuracy: 0.8750 - val_loss: 0.3055 - val_sparse_categorical_accuracy: 0.9120\n",
      "Epoch 6/10\n",
      "263/263 [==============================] - 11s 40ms/step - loss: 0.3996 - sparse_categorical_accuracy: 0.8823 - val_loss: 0.2735 - val_sparse_categorical_accuracy: 0.9189\n",
      "Epoch 7/10\n",
      "263/263 [==============================] - 7s 28ms/step - loss: 0.3687 - sparse_categorical_accuracy: 0.8902 - val_loss: 0.2596 - val_sparse_categorical_accuracy: 0.9236\n",
      "Epoch 8/10\n",
      "263/263 [==============================] - 9s 34ms/step - loss: 0.3532 - sparse_categorical_accuracy: 0.8960 - val_loss: 0.2487 - val_sparse_categorical_accuracy: 0.9249\n",
      "Epoch 9/10\n",
      "263/263 [==============================] - 10s 38ms/step - loss: 0.3328 - sparse_categorical_accuracy: 0.9030 - val_loss: 0.2329 - val_sparse_categorical_accuracy: 0.9293\n",
      "Epoch 10/10\n",
      "263/263 [==============================] - 11s 41ms/step - loss: 0.3221 - sparse_categorical_accuracy: 0.9057 - val_loss: 0.2379 - val_sparse_categorical_accuracy: 0.9245\n",
      "1/1 [==============================] - 0s 70ms/step\n"
     ]
    },
    {
     "name": "stderr",
     "output_type": "stream",
     "text": [
      "2022/12/02 16:13:00 WARNING mlflow.utils.autologging_utils: MLflow autologging encountered a warning: \"/Users/b7064522/opt/miniconda3/envs/kdrenv/lib/python3.10/site-packages/mlflow/tensorflow/__init__.py:189: UserWarning: The pyfunc inference behavior of Keras models logged with signatures differs from the behavior of Keras models logged without signatures. Specifically, when a signature is present, passing a Pandas DataFrame as input to the pyfunc `predict()` API produces an `ndarray` (for single-output models) or a dictionary of `str -> ndarray`: (for multi-output models). In contrast, when a signature is *not* present, `predict()` produces a Pandas DataFrame output in response to a Pandas DataFrame input.\"\n",
      "WARNING:absl:Found untraced functions such as _update_step_xla while saving (showing 1 of 1). These functions will not be directly callable after loading.\n"
     ]
    },
    {
     "name": "stdout",
     "output_type": "stream",
     "text": [
      "INFO:tensorflow:Assets written to: /var/folders/4g/6c1htv314w9dcb25vhpxqfscjwsh63/T/tmpwdi4k19a/model/data/model/assets\n"
     ]
    },
    {
     "name": "stderr",
     "output_type": "stream",
     "text": [
      "INFO:tensorflow:Assets written to: /var/folders/4g/6c1htv314w9dcb25vhpxqfscjwsh63/T/tmpwdi4k19a/model/data/model/assets\n"
     ]
    },
    {
     "name": "stdout",
     "output_type": "stream",
     "text": [
      "Epoch 1/10\n",
      "  6/263 [..............................] - ETA: 6s - loss: 2.0965 - sparse_categorical_accuracy: 0.3294 WARNING:tensorflow:Callback method `on_train_batch_end` is slow compared to the batch time (batch time: 0.0207s vs `on_train_batch_end` time: 0.0448s). Check your callbacks.\n"
     ]
    },
    {
     "name": "stderr",
     "output_type": "stream",
     "text": [
      "WARNING:tensorflow:Callback method `on_train_batch_end` is slow compared to the batch time (batch time: 0.0207s vs `on_train_batch_end` time: 0.0448s). Check your callbacks.\n"
     ]
    },
    {
     "name": "stdout",
     "output_type": "stream",
     "text": [
      "263/263 [==============================] - 15s 50ms/step - loss: 0.5282 - sparse_categorical_accuracy: 0.8531 - val_loss: 0.2639 - val_sparse_categorical_accuracy: 0.9290\n",
      "Epoch 2/10\n",
      "263/263 [==============================] - 7s 27ms/step - loss: 0.2775 - sparse_categorical_accuracy: 0.9190 - val_loss: 0.2061 - val_sparse_categorical_accuracy: 0.9437\n",
      "Epoch 3/10\n",
      "263/263 [==============================] - 8s 30ms/step - loss: 0.2182 - sparse_categorical_accuracy: 0.9370 - val_loss: 0.1709 - val_sparse_categorical_accuracy: 0.9507\n",
      "Epoch 4/10\n",
      "263/263 [==============================] - 9s 33ms/step - loss: 0.1792 - sparse_categorical_accuracy: 0.9483 - val_loss: 0.1499 - val_sparse_categorical_accuracy: 0.9561\n",
      "Epoch 5/10\n",
      "263/263 [==============================] - 8s 29ms/step - loss: 0.1572 - sparse_categorical_accuracy: 0.9551 - val_loss: 0.1391 - val_sparse_categorical_accuracy: 0.9576\n",
      "Epoch 6/10\n",
      "263/263 [==============================] - 6s 24ms/step - loss: 0.1368 - sparse_categorical_accuracy: 0.9600 - val_loss: 0.1234 - val_sparse_categorical_accuracy: 0.9625\n",
      "Epoch 7/10\n",
      "263/263 [==============================] - 7s 27ms/step - loss: 0.1222 - sparse_categorical_accuracy: 0.9633 - val_loss: 0.1147 - val_sparse_categorical_accuracy: 0.9642\n",
      "Epoch 8/10\n",
      "263/263 [==============================] - 8s 31ms/step - loss: 0.1139 - sparse_categorical_accuracy: 0.9657 - val_loss: 0.1082 - val_sparse_categorical_accuracy: 0.9658\n",
      "Epoch 9/10\n",
      "263/263 [==============================] - 8s 28ms/step - loss: 0.1032 - sparse_categorical_accuracy: 0.9689 - val_loss: 0.1017 - val_sparse_categorical_accuracy: 0.9681\n",
      "Epoch 10/10\n",
      "263/263 [==============================] - 8s 29ms/step - loss: 0.0944 - sparse_categorical_accuracy: 0.9726 - val_loss: 0.0993 - val_sparse_categorical_accuracy: 0.9685\n",
      "1/1 [==============================] - 0s 65ms/step\n"
     ]
    },
    {
     "name": "stderr",
     "output_type": "stream",
     "text": [
      "2022/12/02 16:15:07 WARNING mlflow.utils.autologging_utils: MLflow autologging encountered a warning: \"/Users/b7064522/opt/miniconda3/envs/kdrenv/lib/python3.10/site-packages/mlflow/tensorflow/__init__.py:189: UserWarning: The pyfunc inference behavior of Keras models logged with signatures differs from the behavior of Keras models logged without signatures. Specifically, when a signature is present, passing a Pandas DataFrame as input to the pyfunc `predict()` API produces an `ndarray` (for single-output models) or a dictionary of `str -> ndarray`: (for multi-output models). In contrast, when a signature is *not* present, `predict()` produces a Pandas DataFrame output in response to a Pandas DataFrame input.\"\n",
      "WARNING:absl:Found untraced functions such as _update_step_xla while saving (showing 1 of 1). These functions will not be directly callable after loading.\n"
     ]
    },
    {
     "name": "stdout",
     "output_type": "stream",
     "text": [
      "INFO:tensorflow:Assets written to: /var/folders/4g/6c1htv314w9dcb25vhpxqfscjwsh63/T/tmprife8o6c/model/data/model/assets\n"
     ]
    },
    {
     "name": "stderr",
     "output_type": "stream",
     "text": [
      "INFO:tensorflow:Assets written to: /var/folders/4g/6c1htv314w9dcb25vhpxqfscjwsh63/T/tmprife8o6c/model/data/model/assets\n"
     ]
    },
    {
     "name": "stdout",
     "output_type": "stream",
     "text": [
      "Epoch 1/10\n",
      "  5/263 [..............................] - ETA: 12s - loss: 2.2374 - sparse_categorical_accuracy: 0.1547WARNING:tensorflow:Callback method `on_train_batch_end` is slow compared to the batch time (batch time: 0.0238s vs `on_train_batch_end` time: 0.0370s). Check your callbacks.\n"
     ]
    },
    {
     "name": "stderr",
     "output_type": "stream",
     "text": [
      "WARNING:tensorflow:Callback method `on_train_batch_end` is slow compared to the batch time (batch time: 0.0238s vs `on_train_batch_end` time: 0.0370s). Check your callbacks.\n"
     ]
    },
    {
     "name": "stdout",
     "output_type": "stream",
     "text": [
      "263/263 [==============================] - 11s 34ms/step - loss: 0.9780 - sparse_categorical_accuracy: 0.7045 - val_loss: 0.4275 - val_sparse_categorical_accuracy: 0.8908\n",
      "Epoch 2/10\n",
      "263/263 [==============================] - 6s 22ms/step - loss: 0.5098 - sparse_categorical_accuracy: 0.8555 - val_loss: 0.2797 - val_sparse_categorical_accuracy: 0.9287\n",
      "Epoch 3/10\n",
      "263/263 [==============================] - 6s 23ms/step - loss: 0.3650 - sparse_categorical_accuracy: 0.8968 - val_loss: 0.2119 - val_sparse_categorical_accuracy: 0.9463\n",
      "Epoch 4/10\n",
      "263/263 [==============================] - 7s 25ms/step - loss: 0.2999 - sparse_categorical_accuracy: 0.9131 - val_loss: 0.1824 - val_sparse_categorical_accuracy: 0.9510\n",
      "Epoch 5/10\n",
      "263/263 [==============================] - 7s 25ms/step - loss: 0.2643 - sparse_categorical_accuracy: 0.9227 - val_loss: 0.1794 - val_sparse_categorical_accuracy: 0.9519\n",
      "Epoch 6/10\n",
      "263/263 [==============================] - 9s 34ms/step - loss: 0.2378 - sparse_categorical_accuracy: 0.9306 - val_loss: 0.1562 - val_sparse_categorical_accuracy: 0.9561\n",
      "Epoch 7/10\n",
      "263/263 [==============================] - 8s 31ms/step - loss: 0.2256 - sparse_categorical_accuracy: 0.9334 - val_loss: 0.1452 - val_sparse_categorical_accuracy: 0.9599\n",
      "Epoch 8/10\n",
      "263/263 [==============================] - 6s 23ms/step - loss: 0.2101 - sparse_categorical_accuracy: 0.9380 - val_loss: 0.1367 - val_sparse_categorical_accuracy: 0.9631\n",
      "Epoch 9/10\n",
      "263/263 [==============================] - 5s 18ms/step - loss: 0.2023 - sparse_categorical_accuracy: 0.9386 - val_loss: 0.1292 - val_sparse_categorical_accuracy: 0.9642\n",
      "Epoch 10/10\n",
      "263/263 [==============================] - 5s 19ms/step - loss: 0.1942 - sparse_categorical_accuracy: 0.9409 - val_loss: 0.1249 - val_sparse_categorical_accuracy: 0.9673\n",
      "1/1 [==============================] - 0s 54ms/step\n"
     ]
    },
    {
     "name": "stderr",
     "output_type": "stream",
     "text": [
      "2022/12/02 16:16:53 WARNING mlflow.utils.autologging_utils: MLflow autologging encountered a warning: \"/Users/b7064522/opt/miniconda3/envs/kdrenv/lib/python3.10/site-packages/mlflow/tensorflow/__init__.py:189: UserWarning: The pyfunc inference behavior of Keras models logged with signatures differs from the behavior of Keras models logged without signatures. Specifically, when a signature is present, passing a Pandas DataFrame as input to the pyfunc `predict()` API produces an `ndarray` (for single-output models) or a dictionary of `str -> ndarray`: (for multi-output models). In contrast, when a signature is *not* present, `predict()` produces a Pandas DataFrame output in response to a Pandas DataFrame input.\"\n",
      "WARNING:absl:Found untraced functions such as _update_step_xla while saving (showing 1 of 1). These functions will not be directly callable after loading.\n"
     ]
    },
    {
     "name": "stdout",
     "output_type": "stream",
     "text": [
      "INFO:tensorflow:Assets written to: /var/folders/4g/6c1htv314w9dcb25vhpxqfscjwsh63/T/tmpgzhllvnh/model/data/model/assets\n"
     ]
    },
    {
     "name": "stderr",
     "output_type": "stream",
     "text": [
      "INFO:tensorflow:Assets written to: /var/folders/4g/6c1htv314w9dcb25vhpxqfscjwsh63/T/tmpgzhllvnh/model/data/model/assets\n"
     ]
    }
   ],
   "source": [
    "experiment_id = mlflow.create_experiment(\n",
    "    'pipeline-experiments-translation-rerun', #type: ignore\n",
    "    artifact_location=Path.cwd().joinpath('../artifacts').as_uri(),\n",
    "    tags={'version': 'v1', 'priority': 'P1'},\n",
    ")\n",
    "experiment = mlflow.get_experiment(experiment_id)\n",
    "print(f'Name: {experiment.name}')\n",
    "print(f'Experiment_id: {experiment.experiment_id}')\n",
    "print(f'Artifact Location: {experiment.artifact_location}')\n",
    "print(f'Tags: {experiment.tags}')\n",
    "print(f'Lifecycle_stage: {experiment.lifecycle_stage}')\n",
    "print(f'Creation timestamp: {experiment.creation_time}')\n",
    "\n",
    "BATCH_SIZE = 128\n",
    "SPLIT_SIZE = 0.8\n",
    "RESCALE = 1./255\n",
    "ROTATION = 0.05\n",
    "TRANSLATIONS = [(0.025, 0.025), (0.05,0.05), (0.1,0.1), (0.2, 0.2), (0.0, 0.1), (0.1, 0.0)]\n",
    "BRIGHTEN = None\n",
    "EPOCHS = 10\n",
    "\n",
    "\n",
    "for TRANSLATION in TRANSLATIONS:\n",
    "    with mlflow.start_run(\n",
    "        run_name=f'run_translation_{str(TRANSLATION[0])}_{str(TRANSLATION[1])}',\n",
    "        experiment_id=experiment_id\n",
    "        ):\n",
    "        mlflow.log_param('SPLIT_SIZE', SPLIT_SIZE)\n",
    "        mlflow.log_param(\"BATCH_SIZE\", BATCH_SIZE)\n",
    "        mlflow.log_param('RESCALE', RESCALE)\n",
    "        mlflow.log_param('ROTATION', ROTATION)\n",
    "        mlflow.log_param('TRANSLATION', TRANSLATION)\n",
    "        mlflow.log_param('BRIGHTEN', BRIGHTEN)\n",
    "        mlflow.log_param('EPOCHS', EPOCHS)\n",
    "\n",
    "\n",
    "        train_ds, val_ds = tf.keras.utils.split_dataset(\n",
    "            data_loader.load_training_data(),\n",
    "            left_size = SPLIT_SIZE,\n",
    "            shuffle=True\n",
    "        )\n",
    "\n",
    "        train_ds = prepare(\n",
    "            train_ds,\n",
    "            rescale=RESCALE,\n",
    "            batch_size=BATCH_SIZE,\n",
    "            rotation=ROTATION,\n",
    "            translation=TRANSLATION,\n",
    "            brightness=BRIGHTEN\n",
    "        )\n",
    "\n",
    "        val_ds = prepare(\n",
    "            val_ds,\n",
    "            rescale=RESCALE,\n",
    "            batch_size=BATCH_SIZE,\n",
    "            rotation=None,\n",
    "            translation=None,\n",
    "            brightness=None\n",
    "        )\n",
    "        \n",
    "        model = tf.keras.Sequential([\n",
    "            tf.keras.layers.Flatten(input_shape=(28, 28, 1)),\n",
    "            tf.keras.layers.Dense(128, activation='relu'),\n",
    "            tf.keras.layers.Dense(10)\n",
    "            ])  \n",
    "        model.compile(\n",
    "            optimizer=tf.keras.optimizers.Adam(0.001),\n",
    "            loss=tf.keras.losses.SparseCategoricalCrossentropy(from_logits=True),\n",
    "            metrics=['sparse_categorical_accuracy'])\n",
    "        history = model.fit(train_ds, epochs=EPOCHS, validation_data=val_ds)\n"
   ]
  },
  {
   "cell_type": "markdown",
   "metadata": {},
   "source": [
    "## Experiment - random brightness"
   ]
  },
  {
   "cell_type": "code",
   "execution_count": 15,
   "metadata": {},
   "outputs": [
    {
     "name": "stdout",
     "output_type": "stream",
     "text": [
      "Name: pipeline-experiments-brightness\n",
      "Experiment_id: 7\n",
      "Artifact Location: file:///Users/b7064522/Documents/DataScience/kaggle-digit-recognizer/notebooks/../artifacts\n",
      "Tags: {'version': 'v1', 'priority': 'P1'}\n",
      "Lifecycle_stage: active\n",
      "Creation timestamp: 1669998180228\n",
      "Epoch 1/10\n",
      "  4/263 [..............................] - ETA: 5s - loss: 2.2885 - sparse_categorical_accuracy: 0.1562  WARNING:tensorflow:Callback method `on_train_batch_end` is slow compared to the batch time (batch time: 0.0188s vs `on_train_batch_end` time: 0.0332s). Check your callbacks.\n"
     ]
    },
    {
     "name": "stderr",
     "output_type": "stream",
     "text": [
      "WARNING:tensorflow:Callback method `on_train_batch_end` is slow compared to the batch time (batch time: 0.0188s vs `on_train_batch_end` time: 0.0332s). Check your callbacks.\n"
     ]
    },
    {
     "name": "stdout",
     "output_type": "stream",
     "text": [
      "263/263 [==============================] - 12s 39ms/step - loss: 1.0064 - sparse_categorical_accuracy: 0.6942 - val_loss: 0.4371 - val_sparse_categorical_accuracy: 0.8902\n",
      "Epoch 2/10\n",
      "263/263 [==============================] - 8s 32ms/step - loss: 0.5243 - sparse_categorical_accuracy: 0.8502 - val_loss: 0.2754 - val_sparse_categorical_accuracy: 0.9288\n",
      "Epoch 3/10\n",
      "263/263 [==============================] - 9s 34ms/step - loss: 0.3792 - sparse_categorical_accuracy: 0.8921 - val_loss: 0.2106 - val_sparse_categorical_accuracy: 0.9442\n",
      "Epoch 4/10\n",
      "263/263 [==============================] - 9s 33ms/step - loss: 0.3095 - sparse_categorical_accuracy: 0.9092 - val_loss: 0.1858 - val_sparse_categorical_accuracy: 0.9495\n",
      "Epoch 5/10\n",
      "263/263 [==============================] - 8s 28ms/step - loss: 0.2731 - sparse_categorical_accuracy: 0.9203 - val_loss: 0.1651 - val_sparse_categorical_accuracy: 0.9530\n",
      "Epoch 6/10\n",
      "263/263 [==============================] - 6s 21ms/step - loss: 0.2503 - sparse_categorical_accuracy: 0.9244 - val_loss: 0.1449 - val_sparse_categorical_accuracy: 0.9583\n",
      "Epoch 7/10\n",
      "263/263 [==============================] - 6s 22ms/step - loss: 0.2323 - sparse_categorical_accuracy: 0.9319 - val_loss: 0.1348 - val_sparse_categorical_accuracy: 0.9599\n",
      "Epoch 8/10\n",
      "263/263 [==============================] - 6s 21ms/step - loss: 0.2189 - sparse_categorical_accuracy: 0.9353 - val_loss: 0.1280 - val_sparse_categorical_accuracy: 0.9625\n",
      "Epoch 9/10\n",
      "263/263 [==============================] - 6s 22ms/step - loss: 0.2103 - sparse_categorical_accuracy: 0.9374 - val_loss: 0.1236 - val_sparse_categorical_accuracy: 0.9632\n",
      "Epoch 10/10\n",
      "263/263 [==============================] - 6s 21ms/step - loss: 0.2030 - sparse_categorical_accuracy: 0.9410 - val_loss: 0.1176 - val_sparse_categorical_accuracy: 0.9662\n",
      "1/1 [==============================] - 0s 54ms/step\n"
     ]
    },
    {
     "name": "stderr",
     "output_type": "stream",
     "text": [
      "2022/12/02 16:24:37 WARNING mlflow.utils.autologging_utils: MLflow autologging encountered a warning: \"/Users/b7064522/opt/miniconda3/envs/kdrenv/lib/python3.10/site-packages/mlflow/tensorflow/__init__.py:189: UserWarning: The pyfunc inference behavior of Keras models logged with signatures differs from the behavior of Keras models logged without signatures. Specifically, when a signature is present, passing a Pandas DataFrame as input to the pyfunc `predict()` API produces an `ndarray` (for single-output models) or a dictionary of `str -> ndarray`: (for multi-output models). In contrast, when a signature is *not* present, `predict()` produces a Pandas DataFrame output in response to a Pandas DataFrame input.\"\n",
      "WARNING:absl:Found untraced functions such as _update_step_xla while saving (showing 1 of 1). These functions will not be directly callable after loading.\n"
     ]
    },
    {
     "name": "stdout",
     "output_type": "stream",
     "text": [
      "INFO:tensorflow:Assets written to: /var/folders/4g/6c1htv314w9dcb25vhpxqfscjwsh63/T/tmpexwa4hot/model/data/model/assets\n"
     ]
    },
    {
     "name": "stderr",
     "output_type": "stream",
     "text": [
      "INFO:tensorflow:Assets written to: /var/folders/4g/6c1htv314w9dcb25vhpxqfscjwsh63/T/tmpexwa4hot/model/data/model/assets\n"
     ]
    },
    {
     "name": "stdout",
     "output_type": "stream",
     "text": [
      "Epoch 1/10\n",
      "  6/263 [..............................] - ETA: 14s - loss: 2.2063 - sparse_categorical_accuracy: 0.2057WARNING:tensorflow:Callback method `on_train_batch_end` is slow compared to the batch time (batch time: 0.0468s vs `on_train_batch_end` time: 0.0720s). Check your callbacks.\n"
     ]
    },
    {
     "name": "stderr",
     "output_type": "stream",
     "text": [
      "WARNING:tensorflow:Callback method `on_train_batch_end` is slow compared to the batch time (batch time: 0.0468s vs `on_train_batch_end` time: 0.0720s). Check your callbacks.\n"
     ]
    },
    {
     "name": "stdout",
     "output_type": "stream",
     "text": [
      "263/263 [==============================] - 15s 47ms/step - loss: 1.0518 - sparse_categorical_accuracy: 0.6811 - val_loss: 0.4160 - val_sparse_categorical_accuracy: 0.8971\n",
      "Epoch 2/10\n",
      "263/263 [==============================] - 9s 33ms/step - loss: 0.5453 - sparse_categorical_accuracy: 0.8479 - val_loss: 0.2592 - val_sparse_categorical_accuracy: 0.9346\n",
      "Epoch 3/10\n",
      "263/263 [==============================] - 9s 34ms/step - loss: 0.3885 - sparse_categorical_accuracy: 0.8938 - val_loss: 0.2019 - val_sparse_categorical_accuracy: 0.9461\n",
      "Epoch 4/10\n",
      "263/263 [==============================] - 7s 25ms/step - loss: 0.3167 - sparse_categorical_accuracy: 0.9092 - val_loss: 0.1812 - val_sparse_categorical_accuracy: 0.9490\n",
      "Epoch 5/10\n",
      "263/263 [==============================] - 9s 34ms/step - loss: 0.2774 - sparse_categorical_accuracy: 0.9187 - val_loss: 0.1623 - val_sparse_categorical_accuracy: 0.9526\n",
      "Epoch 6/10\n",
      "263/263 [==============================] - 10s 37ms/step - loss: 0.2494 - sparse_categorical_accuracy: 0.9275 - val_loss: 0.1419 - val_sparse_categorical_accuracy: 0.9608\n",
      "Epoch 7/10\n",
      "263/263 [==============================] - 9s 33ms/step - loss: 0.2367 - sparse_categorical_accuracy: 0.9314 - val_loss: 0.1346 - val_sparse_categorical_accuracy: 0.9618\n",
      "Epoch 8/10\n",
      "263/263 [==============================] - 9s 32ms/step - loss: 0.2232 - sparse_categorical_accuracy: 0.9340 - val_loss: 0.1289 - val_sparse_categorical_accuracy: 0.9632\n",
      "Epoch 9/10\n",
      "263/263 [==============================] - 8s 32ms/step - loss: 0.2156 - sparse_categorical_accuracy: 0.9372 - val_loss: 0.1196 - val_sparse_categorical_accuracy: 0.9649\n",
      "Epoch 10/10\n",
      "263/263 [==============================] - 9s 33ms/step - loss: 0.2031 - sparse_categorical_accuracy: 0.9388 - val_loss: 0.1171 - val_sparse_categorical_accuracy: 0.9677\n",
      "1/1 [==============================] - 0s 70ms/step\n"
     ]
    },
    {
     "name": "stderr",
     "output_type": "stream",
     "text": [
      "2022/12/02 16:26:41 WARNING mlflow.utils.autologging_utils: MLflow autologging encountered a warning: \"/Users/b7064522/opt/miniconda3/envs/kdrenv/lib/python3.10/site-packages/mlflow/tensorflow/__init__.py:189: UserWarning: The pyfunc inference behavior of Keras models logged with signatures differs from the behavior of Keras models logged without signatures. Specifically, when a signature is present, passing a Pandas DataFrame as input to the pyfunc `predict()` API produces an `ndarray` (for single-output models) or a dictionary of `str -> ndarray`: (for multi-output models). In contrast, when a signature is *not* present, `predict()` produces a Pandas DataFrame output in response to a Pandas DataFrame input.\"\n",
      "WARNING:absl:Found untraced functions such as _update_step_xla while saving (showing 1 of 1). These functions will not be directly callable after loading.\n"
     ]
    },
    {
     "name": "stdout",
     "output_type": "stream",
     "text": [
      "INFO:tensorflow:Assets written to: /var/folders/4g/6c1htv314w9dcb25vhpxqfscjwsh63/T/tmpvo4ynod9/model/data/model/assets\n"
     ]
    },
    {
     "name": "stderr",
     "output_type": "stream",
     "text": [
      "INFO:tensorflow:Assets written to: /var/folders/4g/6c1htv314w9dcb25vhpxqfscjwsh63/T/tmpvo4ynod9/model/data/model/assets\n"
     ]
    },
    {
     "name": "stdout",
     "output_type": "stream",
     "text": [
      "Epoch 1/10\n",
      "  5/263 [..............................] - ETA: 7s - loss: 2.2705 - sparse_categorical_accuracy: 0.1422 WARNING:tensorflow:Callback method `on_train_batch_end` is slow compared to the batch time (batch time: 0.0273s vs `on_train_batch_end` time: 0.0312s). Check your callbacks.\n"
     ]
    },
    {
     "name": "stderr",
     "output_type": "stream",
     "text": [
      "WARNING:tensorflow:Callback method `on_train_batch_end` is slow compared to the batch time (batch time: 0.0273s vs `on_train_batch_end` time: 0.0312s). Check your callbacks.\n"
     ]
    },
    {
     "name": "stdout",
     "output_type": "stream",
     "text": [
      "263/263 [==============================] - 16s 52ms/step - loss: 1.1205 - sparse_categorical_accuracy: 0.6524 - val_loss: 0.4305 - val_sparse_categorical_accuracy: 0.8949\n",
      "Epoch 2/10\n",
      "263/263 [==============================] - 7s 25ms/step - loss: 0.5938 - sparse_categorical_accuracy: 0.8327 - val_loss: 0.2780 - val_sparse_categorical_accuracy: 0.9273\n",
      "Epoch 3/10\n",
      "263/263 [==============================] - 10s 37ms/step - loss: 0.4169 - sparse_categorical_accuracy: 0.8831 - val_loss: 0.2065 - val_sparse_categorical_accuracy: 0.9462\n",
      "Epoch 4/10\n",
      "263/263 [==============================] - 12s 45ms/step - loss: 0.3252 - sparse_categorical_accuracy: 0.9083 - val_loss: 0.1749 - val_sparse_categorical_accuracy: 0.9530\n",
      "Epoch 5/10\n",
      "263/263 [==============================] - 12s 47ms/step - loss: 0.2905 - sparse_categorical_accuracy: 0.9149 - val_loss: 0.1566 - val_sparse_categorical_accuracy: 0.9560\n",
      "Epoch 6/10\n",
      "263/263 [==============================] - 12s 46ms/step - loss: 0.2658 - sparse_categorical_accuracy: 0.9231 - val_loss: 0.1507 - val_sparse_categorical_accuracy: 0.9568\n",
      "Epoch 7/10\n",
      "263/263 [==============================] - 15s 56ms/step - loss: 0.2414 - sparse_categorical_accuracy: 0.9298 - val_loss: 0.1387 - val_sparse_categorical_accuracy: 0.9596\n",
      "Epoch 8/10\n",
      "263/263 [==============================] - 9s 34ms/step - loss: 0.2287 - sparse_categorical_accuracy: 0.9331 - val_loss: 0.1375 - val_sparse_categorical_accuracy: 0.9587\n",
      "Epoch 9/10\n",
      "263/263 [==============================] - 8s 32ms/step - loss: 0.2216 - sparse_categorical_accuracy: 0.9346 - val_loss: 0.1311 - val_sparse_categorical_accuracy: 0.9614\n",
      "Epoch 10/10\n",
      "263/263 [==============================] - 8s 30ms/step - loss: 0.2093 - sparse_categorical_accuracy: 0.9388 - val_loss: 0.1273 - val_sparse_categorical_accuracy: 0.9612\n",
      "1/1 [==============================] - 0s 81ms/step\n"
     ]
    },
    {
     "name": "stderr",
     "output_type": "stream",
     "text": [
      "2022/12/02 16:29:13 WARNING mlflow.utils.autologging_utils: MLflow autologging encountered a warning: \"/Users/b7064522/opt/miniconda3/envs/kdrenv/lib/python3.10/site-packages/mlflow/tensorflow/__init__.py:189: UserWarning: The pyfunc inference behavior of Keras models logged with signatures differs from the behavior of Keras models logged without signatures. Specifically, when a signature is present, passing a Pandas DataFrame as input to the pyfunc `predict()` API produces an `ndarray` (for single-output models) or a dictionary of `str -> ndarray`: (for multi-output models). In contrast, when a signature is *not* present, `predict()` produces a Pandas DataFrame output in response to a Pandas DataFrame input.\"\n",
      "WARNING:absl:Found untraced functions such as _update_step_xla while saving (showing 1 of 1). These functions will not be directly callable after loading.\n"
     ]
    },
    {
     "name": "stdout",
     "output_type": "stream",
     "text": [
      "INFO:tensorflow:Assets written to: /var/folders/4g/6c1htv314w9dcb25vhpxqfscjwsh63/T/tmp7r1jijuo/model/data/model/assets\n"
     ]
    },
    {
     "name": "stderr",
     "output_type": "stream",
     "text": [
      "INFO:tensorflow:Assets written to: /var/folders/4g/6c1htv314w9dcb25vhpxqfscjwsh63/T/tmp7r1jijuo/model/data/model/assets\n"
     ]
    },
    {
     "name": "stdout",
     "output_type": "stream",
     "text": [
      "Epoch 1/10\n",
      "  5/263 [..............................] - ETA: 7s - loss: 2.3260 - sparse_categorical_accuracy: 0.0984 WARNING:tensorflow:Callback method `on_train_batch_end` is slow compared to the batch time (batch time: 0.0232s vs `on_train_batch_end` time: 0.0529s). Check your callbacks.\n"
     ]
    },
    {
     "name": "stderr",
     "output_type": "stream",
     "text": [
      "WARNING:tensorflow:Callback method `on_train_batch_end` is slow compared to the batch time (batch time: 0.0232s vs `on_train_batch_end` time: 0.0529s). Check your callbacks.\n"
     ]
    },
    {
     "name": "stdout",
     "output_type": "stream",
     "text": [
      "263/263 [==============================] - 13s 41ms/step - loss: 1.2012 - sparse_categorical_accuracy: 0.6265 - val_loss: 0.4461 - val_sparse_categorical_accuracy: 0.8874\n",
      "Epoch 2/10\n",
      "263/263 [==============================] - 12s 44ms/step - loss: 0.6740 - sparse_categorical_accuracy: 0.8087 - val_loss: 0.2845 - val_sparse_categorical_accuracy: 0.9301\n",
      "Epoch 3/10\n",
      "263/263 [==============================] - 9s 34ms/step - loss: 0.4861 - sparse_categorical_accuracy: 0.8605 - val_loss: 0.2102 - val_sparse_categorical_accuracy: 0.9433\n",
      "Epoch 4/10\n",
      "263/263 [==============================] - 7s 26ms/step - loss: 0.3911 - sparse_categorical_accuracy: 0.8874 - val_loss: 0.1725 - val_sparse_categorical_accuracy: 0.9535\n",
      "Epoch 5/10\n",
      "263/263 [==============================] - 6s 22ms/step - loss: 0.3432 - sparse_categorical_accuracy: 0.9030 - val_loss: 0.1548 - val_sparse_categorical_accuracy: 0.9558\n",
      "Epoch 6/10\n",
      "263/263 [==============================] - 5s 18ms/step - loss: 0.3107 - sparse_categorical_accuracy: 0.9086 - val_loss: 0.1448 - val_sparse_categorical_accuracy: 0.9576\n",
      "Epoch 7/10\n",
      "263/263 [==============================] - 5s 18ms/step - loss: 0.2858 - sparse_categorical_accuracy: 0.9165 - val_loss: 0.1282 - val_sparse_categorical_accuracy: 0.9613\n",
      "Epoch 8/10\n",
      "263/263 [==============================] - 5s 18ms/step - loss: 0.2673 - sparse_categorical_accuracy: 0.9203 - val_loss: 0.1274 - val_sparse_categorical_accuracy: 0.9595\n",
      "Epoch 9/10\n",
      "263/263 [==============================] - 5s 18ms/step - loss: 0.2559 - sparse_categorical_accuracy: 0.9253 - val_loss: 0.1217 - val_sparse_categorical_accuracy: 0.9617\n",
      "Epoch 10/10\n",
      "263/263 [==============================] - 5s 18ms/step - loss: 0.2558 - sparse_categorical_accuracy: 0.9244 - val_loss: 0.1148 - val_sparse_categorical_accuracy: 0.9652\n",
      "1/1 [==============================] - 0s 53ms/step\n"
     ]
    },
    {
     "name": "stderr",
     "output_type": "stream",
     "text": [
      "2022/12/02 16:31:25 WARNING mlflow.utils.autologging_utils: MLflow autologging encountered a warning: \"/Users/b7064522/opt/miniconda3/envs/kdrenv/lib/python3.10/site-packages/mlflow/tensorflow/__init__.py:189: UserWarning: The pyfunc inference behavior of Keras models logged with signatures differs from the behavior of Keras models logged without signatures. Specifically, when a signature is present, passing a Pandas DataFrame as input to the pyfunc `predict()` API produces an `ndarray` (for single-output models) or a dictionary of `str -> ndarray`: (for multi-output models). In contrast, when a signature is *not* present, `predict()` produces a Pandas DataFrame output in response to a Pandas DataFrame input.\"\n",
      "WARNING:absl:Found untraced functions such as _update_step_xla while saving (showing 1 of 1). These functions will not be directly callable after loading.\n"
     ]
    },
    {
     "name": "stdout",
     "output_type": "stream",
     "text": [
      "INFO:tensorflow:Assets written to: /var/folders/4g/6c1htv314w9dcb25vhpxqfscjwsh63/T/tmpihfzcwue/model/data/model/assets\n"
     ]
    },
    {
     "name": "stderr",
     "output_type": "stream",
     "text": [
      "INFO:tensorflow:Assets written to: /var/folders/4g/6c1htv314w9dcb25vhpxqfscjwsh63/T/tmpihfzcwue/model/data/model/assets\n"
     ]
    }
   ],
   "source": [
    "experiment_id = mlflow.create_experiment(\n",
    "    'pipeline-experiments-brightness', #type: ignore\n",
    "    artifact_location=Path.cwd().joinpath('../artifacts').as_uri(),\n",
    "    tags={'version': 'v1', 'priority': 'P1'},\n",
    ")\n",
    "experiment = mlflow.get_experiment(experiment_id)\n",
    "print(f'Name: {experiment.name}')\n",
    "print(f'Experiment_id: {experiment.experiment_id}')\n",
    "print(f'Artifact Location: {experiment.artifact_location}')\n",
    "print(f'Tags: {experiment.tags}')\n",
    "print(f'Lifecycle_stage: {experiment.lifecycle_stage}')\n",
    "print(f'Creation timestamp: {experiment.creation_time}')\n",
    "\n",
    "BATCH_SIZE = 128\n",
    "SPLIT_SIZE = 0.8\n",
    "RESCALE = 1./255\n",
    "ROTATION = 0.05\n",
    "TRANSLATION = (0.1, 0.1)\n",
    "BRIGHTENS = [0.05, 0.1, 0.2, 0.3]\n",
    "EPOCHS = 10\n",
    "\n",
    "\n",
    "for BRIGHTEN in BRIGHTENS:\n",
    "    with mlflow.start_run(\n",
    "        run_name=f'run_brighten_{str(BRIGHTEN)}',\n",
    "        experiment_id=experiment_id\n",
    "        ):\n",
    "        mlflow.log_param('SPLIT_SIZE', SPLIT_SIZE)\n",
    "        mlflow.log_param(\"BATCH_SIZE\", BATCH_SIZE)\n",
    "        mlflow.log_param('RESCALE', RESCALE)\n",
    "        mlflow.log_param('ROTATION', ROTATION)\n",
    "        mlflow.log_param('TRANSLATION', TRANSLATION)\n",
    "        mlflow.log_param('BRIGHTEN', BRIGHTEN)\n",
    "        mlflow.log_param('EPOCHS', EPOCHS)\n",
    "\n",
    "\n",
    "        train_ds, val_ds = tf.keras.utils.split_dataset(\n",
    "            data_loader.load_training_data(),\n",
    "            left_size = SPLIT_SIZE,\n",
    "            shuffle=True\n",
    "        )\n",
    "\n",
    "        train_ds = prepare(\n",
    "            train_ds,\n",
    "            rescale=RESCALE,\n",
    "            batch_size=BATCH_SIZE,\n",
    "            rotation=ROTATION,\n",
    "            translation=TRANSLATION,\n",
    "            brightness=BRIGHTEN\n",
    "        )\n",
    "\n",
    "        val_ds = prepare(\n",
    "            val_ds,\n",
    "            rescale=RESCALE,\n",
    "            batch_size=BATCH_SIZE,\n",
    "            rotation=None,\n",
    "            translation=None,\n",
    "            brightness=None\n",
    "        )\n",
    "        \n",
    "        model = tf.keras.Sequential([\n",
    "            tf.keras.layers.Flatten(input_shape=(28, 28, 1)),\n",
    "            tf.keras.layers.Dense(128, activation='relu'),\n",
    "            tf.keras.layers.Dense(10)\n",
    "            ])  \n",
    "        model.compile(\n",
    "            optimizer=tf.keras.optimizers.Adam(0.001),\n",
    "            loss=tf.keras.losses.SparseCategoricalCrossentropy(from_logits=True),\n",
    "            metrics=['sparse_categorical_accuracy'])\n",
    "        history = model.fit(train_ds, epochs=EPOCHS, validation_data=val_ds)\n"
   ]
  },
  {
   "cell_type": "markdown",
   "metadata": {},
   "source": [
    "## Experiment Random zoom"
   ]
  },
  {
   "cell_type": "code",
   "execution_count": 18,
   "metadata": {},
   "outputs": [
    {
     "name": "stdout",
     "output_type": "stream",
     "text": [
      "Name: pipeline-experiments-zoom_rerun\n",
      "Experiment_id: 9\n",
      "Artifact Location: file:///Users/b7064522/Documents/DataScience/kaggle-digit-recognizer/notebooks/../artifacts\n",
      "Tags: {'version': 'v1', 'priority': 'P1'}\n",
      "Lifecycle_stage: active\n",
      "Creation timestamp: 1669999343678\n",
      "Epoch 1/10\n",
      "  6/263 [..............................] - ETA: 10s - loss: 2.2425 - sparse_categorical_accuracy: 0.2161WARNING:tensorflow:Callback method `on_train_batch_end` is slow compared to the batch time (batch time: 0.0354s vs `on_train_batch_end` time: 0.0579s). Check your callbacks.\n"
     ]
    },
    {
     "name": "stderr",
     "output_type": "stream",
     "text": [
      "WARNING:tensorflow:Callback method `on_train_batch_end` is slow compared to the batch time (batch time: 0.0354s vs `on_train_batch_end` time: 0.0579s). Check your callbacks.\n"
     ]
    },
    {
     "name": "stdout",
     "output_type": "stream",
     "text": [
      "263/263 [==============================] - 21s 72ms/step - loss: 1.1867 - sparse_categorical_accuracy: 0.6335 - val_loss: 0.4397 - val_sparse_categorical_accuracy: 0.8833\n",
      "Epoch 2/10\n",
      "263/263 [==============================] - 10s 39ms/step - loss: 0.6807 - sparse_categorical_accuracy: 0.8057 - val_loss: 0.2826 - val_sparse_categorical_accuracy: 0.9248\n",
      "Epoch 3/10\n",
      "263/263 [==============================] - 9s 32ms/step - loss: 0.4838 - sparse_categorical_accuracy: 0.8635 - val_loss: 0.2153 - val_sparse_categorical_accuracy: 0.9421\n",
      "Epoch 4/10\n",
      "263/263 [==============================] - 13s 49ms/step - loss: 0.3973 - sparse_categorical_accuracy: 0.8872 - val_loss: 0.1821 - val_sparse_categorical_accuracy: 0.9474\n",
      "Epoch 5/10\n",
      "263/263 [==============================] - 12s 45ms/step - loss: 0.3428 - sparse_categorical_accuracy: 0.9017 - val_loss: 0.1638 - val_sparse_categorical_accuracy: 0.9489\n",
      "Epoch 6/10\n",
      "263/263 [==============================] - 9s 35ms/step - loss: 0.3111 - sparse_categorical_accuracy: 0.9114 - val_loss: 0.1509 - val_sparse_categorical_accuracy: 0.9540\n",
      "Epoch 7/10\n",
      "263/263 [==============================] - 20s 75ms/step - loss: 0.2836 - sparse_categorical_accuracy: 0.9181 - val_loss: 0.1385 - val_sparse_categorical_accuracy: 0.9585\n",
      "Epoch 8/10\n",
      "263/263 [==============================] - 15s 58ms/step - loss: 0.2738 - sparse_categorical_accuracy: 0.9210 - val_loss: 0.1392 - val_sparse_categorical_accuracy: 0.9577\n",
      "Epoch 9/10\n",
      "263/263 [==============================] - 16s 61ms/step - loss: 0.2542 - sparse_categorical_accuracy: 0.9258 - val_loss: 0.1343 - val_sparse_categorical_accuracy: 0.9586\n",
      "Epoch 10/10\n",
      "263/263 [==============================] - 20s 76ms/step - loss: 0.2430 - sparse_categorical_accuracy: 0.9287 - val_loss: 0.1253 - val_sparse_categorical_accuracy: 0.9633\n",
      "1/1 [==============================] - 0s 118ms/step\n"
     ]
    },
    {
     "name": "stderr",
     "output_type": "stream",
     "text": [
      "2022/12/02 16:45:09 WARNING mlflow.utils.autologging_utils: MLflow autologging encountered a warning: \"/Users/b7064522/opt/miniconda3/envs/kdrenv/lib/python3.10/site-packages/mlflow/tensorflow/__init__.py:189: UserWarning: The pyfunc inference behavior of Keras models logged with signatures differs from the behavior of Keras models logged without signatures. Specifically, when a signature is present, passing a Pandas DataFrame as input to the pyfunc `predict()` API produces an `ndarray` (for single-output models) or a dictionary of `str -> ndarray`: (for multi-output models). In contrast, when a signature is *not* present, `predict()` produces a Pandas DataFrame output in response to a Pandas DataFrame input.\"\n",
      "WARNING:absl:Found untraced functions such as _update_step_xla while saving (showing 1 of 1). These functions will not be directly callable after loading.\n"
     ]
    },
    {
     "name": "stdout",
     "output_type": "stream",
     "text": [
      "INFO:tensorflow:Assets written to: /var/folders/4g/6c1htv314w9dcb25vhpxqfscjwsh63/T/tmp22pi46f_/model/data/model/assets\n"
     ]
    },
    {
     "name": "stderr",
     "output_type": "stream",
     "text": [
      "INFO:tensorflow:Assets written to: /var/folders/4g/6c1htv314w9dcb25vhpxqfscjwsh63/T/tmp22pi46f_/model/data/model/assets\n"
     ]
    },
    {
     "name": "stdout",
     "output_type": "stream",
     "text": [
      "Epoch 1/10\n",
      "  5/263 [..............................] - ETA: 15s - loss: 2.2753 - sparse_categorical_accuracy: 0.1547WARNING:tensorflow:Callback method `on_train_batch_end` is slow compared to the batch time (batch time: 0.0342s vs `on_train_batch_end` time: 0.1289s). Check your callbacks.\n"
     ]
    },
    {
     "name": "stderr",
     "output_type": "stream",
     "text": [
      "WARNING:tensorflow:Callback method `on_train_batch_end` is slow compared to the batch time (batch time: 0.0342s vs `on_train_batch_end` time: 0.1289s). Check your callbacks.\n"
     ]
    },
    {
     "name": "stdout",
     "output_type": "stream",
     "text": [
      "263/263 [==============================] - 31s 104ms/step - loss: 1.2385 - sparse_categorical_accuracy: 0.6133 - val_loss: 0.4618 - val_sparse_categorical_accuracy: 0.8771\n",
      "Epoch 2/10\n",
      "263/263 [==============================] - 9s 35ms/step - loss: 0.7274 - sparse_categorical_accuracy: 0.7924 - val_loss: 0.3032 - val_sparse_categorical_accuracy: 0.9181\n",
      "Epoch 3/10\n",
      "263/263 [==============================] - 11s 41ms/step - loss: 0.5260 - sparse_categorical_accuracy: 0.8502 - val_loss: 0.2348 - val_sparse_categorical_accuracy: 0.9363\n",
      "Epoch 4/10\n",
      "263/263 [==============================] - 12s 46ms/step - loss: 0.4282 - sparse_categorical_accuracy: 0.8772 - val_loss: 0.2146 - val_sparse_categorical_accuracy: 0.9386\n",
      "Epoch 5/10\n",
      "263/263 [==============================] - 13s 51ms/step - loss: 0.3687 - sparse_categorical_accuracy: 0.8937 - val_loss: 0.1813 - val_sparse_categorical_accuracy: 0.9496\n",
      "Epoch 6/10\n",
      "263/263 [==============================] - 12s 44ms/step - loss: 0.3352 - sparse_categorical_accuracy: 0.9040 - val_loss: 0.1737 - val_sparse_categorical_accuracy: 0.9496\n",
      "Epoch 7/10\n",
      "263/263 [==============================] - 8s 29ms/step - loss: 0.3142 - sparse_categorical_accuracy: 0.9058 - val_loss: 0.1589 - val_sparse_categorical_accuracy: 0.9543\n",
      "Epoch 8/10\n",
      "263/263 [==============================] - 7s 27ms/step - loss: 0.2910 - sparse_categorical_accuracy: 0.9152 - val_loss: 0.1570 - val_sparse_categorical_accuracy: 0.9543\n",
      "Epoch 9/10\n",
      "263/263 [==============================] - 7s 26ms/step - loss: 0.2763 - sparse_categorical_accuracy: 0.9208 - val_loss: 0.1516 - val_sparse_categorical_accuracy: 0.9551\n",
      "Epoch 10/10\n",
      "263/263 [==============================] - 7s 26ms/step - loss: 0.2652 - sparse_categorical_accuracy: 0.9215 - val_loss: 0.1539 - val_sparse_categorical_accuracy: 0.9560\n",
      "1/1 [==============================] - 0s 53ms/step\n"
     ]
    },
    {
     "name": "stderr",
     "output_type": "stream",
     "text": [
      "2022/12/02 16:48:09 WARNING mlflow.utils.autologging_utils: MLflow autologging encountered a warning: \"/Users/b7064522/opt/miniconda3/envs/kdrenv/lib/python3.10/site-packages/mlflow/tensorflow/__init__.py:189: UserWarning: The pyfunc inference behavior of Keras models logged with signatures differs from the behavior of Keras models logged without signatures. Specifically, when a signature is present, passing a Pandas DataFrame as input to the pyfunc `predict()` API produces an `ndarray` (for single-output models) or a dictionary of `str -> ndarray`: (for multi-output models). In contrast, when a signature is *not* present, `predict()` produces a Pandas DataFrame output in response to a Pandas DataFrame input.\"\n",
      "WARNING:absl:Found untraced functions such as _update_step_xla while saving (showing 1 of 1). These functions will not be directly callable after loading.\n"
     ]
    },
    {
     "name": "stdout",
     "output_type": "stream",
     "text": [
      "INFO:tensorflow:Assets written to: /var/folders/4g/6c1htv314w9dcb25vhpxqfscjwsh63/T/tmpoildcsvo/model/data/model/assets\n"
     ]
    },
    {
     "name": "stderr",
     "output_type": "stream",
     "text": [
      "INFO:tensorflow:Assets written to: /var/folders/4g/6c1htv314w9dcb25vhpxqfscjwsh63/T/tmpoildcsvo/model/data/model/assets\n"
     ]
    },
    {
     "name": "stdout",
     "output_type": "stream",
     "text": [
      "Epoch 1/10\n",
      "  6/263 [..............................] - ETA: 14s - loss: 2.2842 - sparse_categorical_accuracy: 0.1771WARNING:tensorflow:Callback method `on_train_batch_end` is slow compared to the batch time (batch time: 0.0334s vs `on_train_batch_end` time: 0.0497s). Check your callbacks.\n"
     ]
    },
    {
     "name": "stderr",
     "output_type": "stream",
     "text": [
      "WARNING:tensorflow:Callback method `on_train_batch_end` is slow compared to the batch time (batch time: 0.0334s vs `on_train_batch_end` time: 0.0497s). Check your callbacks.\n"
     ]
    },
    {
     "name": "stdout",
     "output_type": "stream",
     "text": [
      "263/263 [==============================] - 14s 46ms/step - loss: 1.2954 - sparse_categorical_accuracy: 0.5990 - val_loss: 0.4308 - val_sparse_categorical_accuracy: 0.8943\n",
      "Epoch 2/10\n",
      "263/263 [==============================] - 6s 24ms/step - loss: 0.7442 - sparse_categorical_accuracy: 0.7889 - val_loss: 0.2714 - val_sparse_categorical_accuracy: 0.9270\n",
      "Epoch 3/10\n",
      "263/263 [==============================] - 6s 24ms/step - loss: 0.5393 - sparse_categorical_accuracy: 0.8492 - val_loss: 0.2113 - val_sparse_categorical_accuracy: 0.9414\n",
      "Epoch 4/10\n",
      "263/263 [==============================] - 6s 24ms/step - loss: 0.4483 - sparse_categorical_accuracy: 0.8751 - val_loss: 0.1768 - val_sparse_categorical_accuracy: 0.9510\n",
      "Epoch 5/10\n",
      "263/263 [==============================] - 6s 24ms/step - loss: 0.3843 - sparse_categorical_accuracy: 0.8910 - val_loss: 0.1546 - val_sparse_categorical_accuracy: 0.9569\n",
      "Epoch 6/10\n",
      "263/263 [==============================] - 6s 24ms/step - loss: 0.3555 - sparse_categorical_accuracy: 0.8985 - val_loss: 0.1460 - val_sparse_categorical_accuracy: 0.9588\n",
      "Epoch 7/10\n",
      "263/263 [==============================] - 6s 23ms/step - loss: 0.3289 - sparse_categorical_accuracy: 0.9061 - val_loss: 0.1412 - val_sparse_categorical_accuracy: 0.9586\n",
      "Epoch 8/10\n",
      "263/263 [==============================] - 6s 24ms/step - loss: 0.3043 - sparse_categorical_accuracy: 0.9124 - val_loss: 0.1339 - val_sparse_categorical_accuracy: 0.9613\n",
      "Epoch 9/10\n",
      "263/263 [==============================] - 6s 23ms/step - loss: 0.2921 - sparse_categorical_accuracy: 0.9164 - val_loss: 0.1328 - val_sparse_categorical_accuracy: 0.9618\n",
      "Epoch 10/10\n",
      "263/263 [==============================] - 6s 23ms/step - loss: 0.2810 - sparse_categorical_accuracy: 0.9189 - val_loss: 0.1190 - val_sparse_categorical_accuracy: 0.9668\n",
      "1/1 [==============================] - 0s 53ms/step\n"
     ]
    },
    {
     "name": "stderr",
     "output_type": "stream",
     "text": [
      "2022/12/02 16:49:55 WARNING mlflow.utils.autologging_utils: MLflow autologging encountered a warning: \"/Users/b7064522/opt/miniconda3/envs/kdrenv/lib/python3.10/site-packages/mlflow/tensorflow/__init__.py:189: UserWarning: The pyfunc inference behavior of Keras models logged with signatures differs from the behavior of Keras models logged without signatures. Specifically, when a signature is present, passing a Pandas DataFrame as input to the pyfunc `predict()` API produces an `ndarray` (for single-output models) or a dictionary of `str -> ndarray`: (for multi-output models). In contrast, when a signature is *not* present, `predict()` produces a Pandas DataFrame output in response to a Pandas DataFrame input.\"\n",
      "WARNING:absl:Found untraced functions such as _update_step_xla while saving (showing 1 of 1). These functions will not be directly callable after loading.\n"
     ]
    },
    {
     "name": "stdout",
     "output_type": "stream",
     "text": [
      "INFO:tensorflow:Assets written to: /var/folders/4g/6c1htv314w9dcb25vhpxqfscjwsh63/T/tmpk9tgkbg8/model/data/model/assets\n"
     ]
    },
    {
     "name": "stderr",
     "output_type": "stream",
     "text": [
      "INFO:tensorflow:Assets written to: /var/folders/4g/6c1htv314w9dcb25vhpxqfscjwsh63/T/tmpk9tgkbg8/model/data/model/assets\n"
     ]
    }
   ],
   "source": [
    "experiment_id = mlflow.create_experiment(\n",
    "    'pipeline-experiments-zoom_rerun', #type: ignore\n",
    "    artifact_location=Path.cwd().joinpath('../artifacts').as_uri(),\n",
    "    tags={'version': 'v1', 'priority': 'P1'},\n",
    ")\n",
    "experiment = mlflow.get_experiment(experiment_id)\n",
    "print(f'Name: {experiment.name}')\n",
    "print(f'Experiment_id: {experiment.experiment_id}')\n",
    "print(f'Artifact Location: {experiment.artifact_location}')\n",
    "print(f'Tags: {experiment.tags}')\n",
    "print(f'Lifecycle_stage: {experiment.lifecycle_stage}')\n",
    "print(f'Creation timestamp: {experiment.creation_time}')\n",
    "\n",
    "BATCH_SIZE = 128\n",
    "SPLIT_SIZE = 0.8\n",
    "RESCALE = 1./255\n",
    "ROTATION = 0.05\n",
    "TRANSLATION = (0.1, 0.1)\n",
    "BRIGHTENS = 0.1\n",
    "ZOOMS = [0.05, 0.1, 0.2]\n",
    "EPOCHS = 10\n",
    "\n",
    "\n",
    "for ZOOM in ZOOMS:\n",
    "    with mlflow.start_run(\n",
    "        run_name=f'run_zoom_{str(ZOOM)}',\n",
    "        experiment_id=experiment_id\n",
    "        ):\n",
    "        mlflow.log_param('SPLIT_SIZE', SPLIT_SIZE)\n",
    "        mlflow.log_param(\"BATCH_SIZE\", BATCH_SIZE)\n",
    "        mlflow.log_param('RESCALE', RESCALE)\n",
    "        mlflow.log_param('ROTATION', ROTATION)\n",
    "        mlflow.log_param('TRANSLATION', TRANSLATION)\n",
    "        mlflow.log_param('BRIGHTEN', BRIGHTEN)\n",
    "        mlflow.log_param('ZOOM', ZOOM)\n",
    "        mlflow.log_param('EPOCHS', EPOCHS)\n",
    "\n",
    "\n",
    "        train_ds, val_ds = tf.keras.utils.split_dataset(\n",
    "            data_loader.load_training_data(),\n",
    "            left_size = SPLIT_SIZE,\n",
    "            shuffle=True\n",
    "        )\n",
    "\n",
    "        train_ds = prepare(\n",
    "            train_ds,\n",
    "            rescale=RESCALE,\n",
    "            batch_size=BATCH_SIZE,\n",
    "            rotation=ROTATION,\n",
    "            translation=TRANSLATION,\n",
    "            brightness=BRIGHTEN,\n",
    "            zoom=ZOOM\n",
    "        )\n",
    "\n",
    "        val_ds = prepare(\n",
    "            val_ds,\n",
    "            rescale=RESCALE,\n",
    "            batch_size=BATCH_SIZE,\n",
    "            rotation=None,\n",
    "            translation=None,\n",
    "            brightness=None,\n",
    "            zoom=None\n",
    "        )\n",
    "        \n",
    "        model = tf.keras.Sequential([\n",
    "            tf.keras.layers.Flatten(input_shape=(28, 28, 1)),\n",
    "            tf.keras.layers.Dense(128, activation='relu'),\n",
    "            tf.keras.layers.Dense(10)\n",
    "            ])  \n",
    "        model.compile(\n",
    "            optimizer=tf.keras.optimizers.Adam(0.001),\n",
    "            loss=tf.keras.losses.SparseCategoricalCrossentropy(from_logits=True),\n",
    "            metrics=['sparse_categorical_accuracy'])\n",
    "        history = model.fit(train_ds, epochs=EPOCHS, validation_data=val_ds)\n"
   ]
  },
  {
   "cell_type": "code",
   "execution_count": null,
   "metadata": {},
   "outputs": [],
   "source": []
  }
 ],
 "metadata": {
  "kernelspec": {
   "display_name": "Python 3.10.8 ('kdrenv')",
   "language": "python",
   "name": "python3"
  },
  "language_info": {
   "codemirror_mode": {
    "name": "ipython",
    "version": 3
   },
   "file_extension": ".py",
   "mimetype": "text/x-python",
   "name": "python",
   "nbconvert_exporter": "python",
   "pygments_lexer": "ipython3",
   "version": "3.10.8"
  },
  "orig_nbformat": 4,
  "vscode": {
   "interpreter": {
    "hash": "1527211142a7229be55d624c66955c850bb3fa47772edc50043d1210368230e5"
   }
  }
 },
 "nbformat": 4,
 "nbformat_minor": 2
}
